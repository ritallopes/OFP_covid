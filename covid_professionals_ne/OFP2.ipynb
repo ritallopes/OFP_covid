{
  "nbformat": 4,
  "nbformat_minor": 0,
  "metadata": {
    "colab": {
      "name": "Cópia de OFP2.ipynb",
      "provenance": [],
      "collapsed_sections": []
    },
    "kernelspec": {
      "name": "python3",
      "display_name": "Python 3"
    }
  },
  "cells": [
    {
      "cell_type": "code",
      "metadata": {
        "id": "DhI8_GfKg2ed"
      },
      "source": [
        "import pandas as pd"
      ],
      "execution_count": 1,
      "outputs": []
    },
    {
      "cell_type": "code",
      "metadata": {
        "id": "39seJEhhRzL8"
      },
      "source": [
        "#definindo estados do nordeste e suas siglas referentes\n",
        "etiquetas = ['AC','AL','AP', 'AM', 'BA-1', 'BA-2','CE','DF','ES','GO','MA','MT','MS','MG-1','MG-2','PA','PB','PR',\n",
        "             'PE','PI','RJ-1', 'RJ-2','RN','RS-1', 'RS-2','RO','RR','SC-1', 'SC-2', 'SP-1','SP-2', 'SP-3', 'SP-4', 'SP-5', 'SE', 'TO']\n",
        "ne = ['ALAGOAS', 'BAHIA', 'CEARÁ', 'SERGIPE', 'RIO GRANDE DO NORTE', 'PERNAMBUCO', 'PIAUÍ', 'MARANHÃO', 'PARAÍBA']\n"
      ],
      "execution_count": 2,
      "outputs": []
    },
    {
      "cell_type": "code",
      "metadata": {
        "id": "-LHdU4GZSQqI"
      },
      "source": [
        "#1st parte dos dados\n",
        "data_br =pd.DataFrame()\n",
        "for sigla in etiquetas[0:18]:\n",
        "    data_br = pd.concat([data_br ,(pd.read_csv('https://s3-sa-east-1.amazonaws.com/ckan.saude.gov.br/dados-{}.csv'.format(sigla.lower()), \n",
        "                                               encoding='latin-1', sep=';', low_memory=False,  error_bad_lines=False))], axis=0, ignore_index=True)\n"
      ],
      "execution_count": null,
      "outputs": []
    },
    {
      "cell_type": "code",
      "metadata": {
        "id": "1WZdhqhGrJ1K"
      },
      "source": [
        "data_br.shape"
      ],
      "execution_count": null,
      "outputs": []
    },
    {
      "cell_type": "code",
      "metadata": {
        "id": "GMTrCzSWrMwq",
        "outputId": "25afc703-619f-45db-c33f-d59bdbe8df0d",
        "colab": {
          "base_uri": "https://localhost:8080/",
          "height": 136
        }
      },
      "source": [
        "data_br.estado.unique()"
      ],
      "execution_count": 250,
      "outputs": [
        {
          "output_type": "execute_result",
          "data": {
            "text/plain": [
              "array(['ACRE', 'AMAZONAS', 'BAHIA', 'RIO GRANDE DO SUL', 'PARANÁ',\n",
              "       'SÃO PAULO', 'PIAUÍ', 'CEARÁ', 'RONDÔNIA', 'MINAS GERAIS', 'GOIÁS',\n",
              "       'DISTRITO FEDERAL', 'RIO DE JANEIRO', 'MATO GROSSO', 'RORAIMA',\n",
              "       'PARAÍBA', 'SANTA CATARINA', 'MARANHÃO', 'PARÁ', 'SERGIPE',\n",
              "       'PERNAMBUCO', 'MATO GROSSO DO SUL', 'ESPÍRITO SANTO',\n",
              "       'RIO GRANDE DO NORTE', 'ALAGOAS', nan, 'TOCANTINS', 'AMAPÁ'],\n",
              "      dtype=object)"
            ]
          },
          "metadata": {
            "tags": []
          },
          "execution_count": 250
        }
      ]
    },
    {
      "cell_type": "code",
      "metadata": {
        "id": "r2Vnvz4wrD07",
        "outputId": "a857d306-9ede-4a34-9112-94256d97d510",
        "colab": {
          "base_uri": "https://localhost:8080/",
          "height": 51
        }
      },
      "source": [
        "data_br =  data_br.loc[data_br.estado.isin(ne)]\n",
        "data_br.estado.unique()\n"
      ],
      "execution_count": 251,
      "outputs": [
        {
          "output_type": "execute_result",
          "data": {
            "text/plain": [
              "array(['BAHIA', 'PIAUÍ', 'CEARÁ', 'PARAÍBA', 'MARANHÃO', 'SERGIPE',\n",
              "       'PERNAMBUCO', 'RIO GRANDE DO NORTE', 'ALAGOAS'], dtype=object)"
            ]
          },
          "metadata": {
            "tags": []
          },
          "execution_count": 251
        }
      ]
    },
    {
      "cell_type": "code",
      "metadata": {
        "id": "QR1M6bN0Xw-R",
        "outputId": "4da1e5cb-cb7b-4336-e51c-0aae28fdd269",
        "colab": {
          "base_uri": "https://localhost:8080/",
          "height": 51
        }
      },
      "source": [
        "#2st partes dos dados\n",
        "for sigla in etiquetas[18:36]:\n",
        "    data_br = pd.concat([data_br ,(pd.read_csv('https://s3-sa-east-1.amazonaws.com/ckan.saude.gov.br/dados-{}.csv'.format(sigla.lower()), encoding='latin-1', sep=';', low_memory=False, error_bad_lines=False))], axis=0, ignore_index=True)\n",
        "data_br.shape"
      ],
      "execution_count": 252,
      "outputs": [
        {
          "output_type": "stream",
          "text": [
            "b'Skipping line 591719: expected 30 fields, saw 32\\n'\n"
          ],
          "name": "stderr"
        },
        {
          "output_type": "execute_result",
          "data": {
            "text/plain": [
              "(14480275, 30)"
            ]
          },
          "metadata": {
            "tags": []
          },
          "execution_count": 252
        }
      ]
    },
    {
      "cell_type": "code",
      "metadata": {
        "id": "MP26-X55whaz"
      },
      "source": [
        "data_br =  data_br.loc[data_br.estado.isin(ne)]\n",
        "data_br.estado.unique()"
      ],
      "execution_count": null,
      "outputs": []
    },
    {
      "cell_type": "code",
      "metadata": {
        "id": "wf6INS-sxgLW",
        "outputId": "fa3aca26-55d5-46c7-9415-08660266de7e",
        "colab": {
          "base_uri": "https://localhost:8080/",
          "height": 164
        }
      },
      "source": [
        "data_br.shape"
      ],
      "execution_count": 1,
      "outputs": [
        {
          "output_type": "error",
          "ename": "NameError",
          "evalue": "ignored",
          "traceback": [
            "\u001b[0;31m---------------------------------------------------------------------------\u001b[0m",
            "\u001b[0;31mNameError\u001b[0m                                 Traceback (most recent call last)",
            "\u001b[0;32m<ipython-input-1-72ccfad283cd>\u001b[0m in \u001b[0;36m<module>\u001b[0;34m()\u001b[0m\n\u001b[0;32m----> 1\u001b[0;31m \u001b[0mdata_br\u001b[0m\u001b[0;34m.\u001b[0m\u001b[0mshape\u001b[0m\u001b[0;34m\u001b[0m\u001b[0;34m\u001b[0m\u001b[0m\n\u001b[0m",
            "\u001b[0;31mNameError\u001b[0m: name 'data_br' is not defined"
          ]
        }
      ]
    },
    {
      "cell_type": "code",
      "metadata": {
        "id": "Bs8KFJi5GzPd"
      },
      "source": [
        "#maioria que teve sindrome respiratória foram os técnicos ou auxiliares de enfermagem\n",
        "data_br.cbo.value_counts()"
      ],
      "execution_count": null,
      "outputs": []
    },
    {
      "cell_type": "code",
      "metadata": {
        "id": "cdC_-fpfIGQ6"
      },
      "source": [
        "data_br.resultadoTeste.unique()"
      ],
      "execution_count": null,
      "outputs": []
    },
    {
      "cell_type": "code",
      "metadata": {
        "id": "FR3i8wSVH5rz"
      },
      "source": [
        "#casos de covid com resultado positivo e estado dos nordestes\n",
        "covid_ne = pd.DataFrame()\n",
        "covid_ne = data_br.loc[data_br.resultadoTeste == 'Positivo']\n",
        "covid_ne = covid_ne.loc[covid_ne.dataInicioSintomas != 'undefined']\n",
        "print(covid_ne.estado.unique())\n",
        "print(covid_ne.resultadoTeste.unique())"
      ],
      "execution_count": null,
      "outputs": []
    },
    {
      "cell_type": "code",
      "metadata": {
        "id": "WdDIT9I4IVRm"
      },
      "source": [
        "#data_br.shape = (14.392.792, 30)\n",
        "covid_ne.shape\n",
        "\n"
      ],
      "execution_count": null,
      "outputs": []
    },
    {
      "cell_type": "code",
      "metadata": {
        "id": "HYvIijqeEwbl"
      },
      "source": [
        "covid_ne.columns"
      ],
      "execution_count": null,
      "outputs": []
    },
    {
      "cell_type": "code",
      "metadata": {
        "id": "t_ftYvx1gRko"
      },
      "source": [
        "#selecionando colunas que iremos usar\n",
        "covid_ne = covid_ne.iloc[:,[0,2,5,6,11,13,14,26,27,28]].copy() #choose columns\n",
        "covid_ne.columns = ['id', 'inicioSintomas', 'profissional','cbo', 'resultado', 'sexo', 'estado', 'idade', 'encerramento', 'evolucao']\n",
        "\n",
        "#usando id como index\n",
        "covid_ne.index =covid_ne.id\n",
        "covid_ne.drop(labels=\"id\",axis=1,inplace=True) \n",
        "\n"
      ],
      "execution_count": null,
      "outputs": []
    },
    {
      "cell_type": "code",
      "metadata": {
        "id": "ygydrSVuTHbt"
      },
      "source": [
        "def formatDate(date_):\n",
        "  day = date_[0:10]\n",
        "  day_dt = pd.to_datetime(day,errors='ignore')      \n",
        "  return day_dt\n",
        "  \n",
        "\n"
      ],
      "execution_count": null,
      "outputs": []
    },
    {
      "cell_type": "code",
      "metadata": {
        "id": "wBDmKRgTQu8V"
      },
      "source": [
        "#como iremos usar em série temporal:\n",
        "covid_ne.inicioSintomas = covid_ne.inicioSintomas.apply(formatDate)\n"
      ],
      "execution_count": null,
      "outputs": []
    },
    {
      "cell_type": "code",
      "metadata": {
        "id": "ywahfh31NwFY"
      },
      "source": [
        "covid_ne.sort_values(by=['inicioSintomas'], ascending=False)\n",
        "covid_ne.loc[covid_ne.inicioSintomas < pd.datetime.now()] #ordenadno por data\n",
        "covid_ne  = covid_ne.loc[(covid_ne.inicioSintomas <= pd.datetime.now()) & (covid_ne.inicioSintomas >= pd.to_datetime('2020-02-01'))].copy() # eleiminando dados com datas após o dia atual\n"
      ],
      "execution_count": null,
      "outputs": []
    },
    {
      "cell_type": "code",
      "metadata": {
        "id": "jXA3KVM1RoZJ"
      },
      "source": [
        "#todos os casos de covid por data e estado\n",
        "covid_grouped = covid_ne.iloc[:,[0,5,8]]\n",
        "covid_grouped =covid_grouped[['inicioSintomas', 'estado']].groupby(by = ['inicioSintomas'])['estado'].value_counts().unstack().fillna(0)\n",
        "covid_grouped"
      ],
      "execution_count": null,
      "outputs": []
    },
    {
      "cell_type": "code",
      "metadata": {
        "id": "ZkIYQ9S6NXn2"
      },
      "source": [
        "#casos de covid em profissionais de saúde\n",
        "prof_ne = covid_ne.loc[covid_ne.profissional == 'Sim', ['inicioSintomas', 'estado', 'evolucao']]\n",
        "prof_ne.estado.unique()\n"
      ],
      "execution_count": null,
      "outputs": []
    },
    {
      "cell_type": "code",
      "metadata": {
        "id": "XJXREUfKiJnE"
      },
      "source": [
        "#novos casos por dia de inicio de sintomas e estado\n",
        "prof_grouped= prof_ne[['inicioSintomas', 'estado']].groupby(by = ['inicioSintomas'])['estado'].value_counts().unstack().fillna(0)\n",
        "prof_grouped"
      ],
      "execution_count": null,
      "outputs": []
    },
    {
      "cell_type": "code",
      "metadata": {
        "id": "XSoka4IBIgdW"
      },
      "source": [
        "#profissionais que vieram a óbito\n",
        "prof_obito = prof_ne.loc[ne_date.evolucao=='Óbito',['inicioSintomas', 'estado']]\n",
        "prof_obito.estado.unique()"
      ],
      "execution_count": null,
      "outputs": []
    },
    {
      "cell_type": "code",
      "metadata": {
        "id": "FMJiVFHScV2w"
      },
      "source": [
        "#obitos por estados por dia\n",
        "ob_grouped = prof_obito.groupby(by = ['inicioSintomas'])['estado'].value_counts().unstack().fillna(0)\n",
        "ob_grouped['SERGIPE'] = 0.0 #add Sergipe porque de acordo com os dados nenhum profissional de saúde morreu\n"
      ],
      "execution_count": null,
      "outputs": []
    },
    {
      "cell_type": "code",
      "metadata": {
        "id": "nsLouV2DnoCE"
      },
      "source": [
        "ne_states = ['Alagoas', 'Bahia', 'Ceará', 'Maranhão', 'Paraíba', 'Pernambuco', 'Piauí', 'Sergipe', 'Rio Grande do Norte']"
      ],
      "execution_count": null,
      "outputs": []
    },
    {
      "cell_type": "code",
      "metadata": {
        "id": "iEeAUtY4ip6s"
      },
      "source": [
        "# Using plotly.express\n",
        "import plotly.express as px\n",
        "from plotly.subplots import make_subplots\n",
        "import plotly.graph_objects as go\n",
        "\n",
        "# Initialize figure with subplots\n",
        "fig = make_subplots(\n",
        "    rows=3, cols=3, subplot_titles=ne_states, column_widths= [30,30,30], print_grid=True, shared_yaxes=True\n",
        ")\n",
        "\n",
        "\n",
        "\n",
        "r = 1\n",
        "for i, state in enumerate(ne_states):  \n",
        "  fig.add_scatter(x=prof_grouped.index, y=prof_grouped[ne_states[i].upper()],\n",
        "              marker=dict(size=2),\n",
        "              row=r, col=(i%3)+1)\n",
        "  \n",
        "  fig.add_scatter(x= ob_grouped.loc[ob_grouped[ne_states[i].upper()] >= 1].index, \n",
        "                  y = ob_grouped.loc[ob_grouped[ne_states[i].upper()]>= 1][ne_states[i].upper()],\n",
        "                  mode=\"markers\",\n",
        "                  marker=dict(size=5, color=\"#871414\"),\n",
        "                  row=r, col=(i%3)+1)\n",
        "  if (((i%3)+1) == 3):\n",
        "    r += 1\n",
        "\n",
        "\n",
        "fig.write_html(\"covid-profissionais-nordeste.html\", full)\n",
        "\n",
        "fig.update_layout(showlegend=False, template= 'plotly_dark')\n",
        "fig.show()\n",
        "\n"
      ],
      "execution_count": null,
      "outputs": []
    },
    {
      "cell_type": "code",
      "metadata": {
        "id": "cO4JMwaQukQI"
      },
      "source": [
        "help(go.Figure.write_html)\n"
      ],
      "execution_count": null,
      "outputs": []
    }
  ]
}