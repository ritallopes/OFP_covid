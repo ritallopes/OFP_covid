{
  "nbformat": 4,
  "nbformat_minor": 0,
  "metadata": {
    "colab": {
      "name": "OFP2.ipynb",
      "provenance": [],
      "collapsed_sections": [],
      "include_colab_link": true
    },
    "kernelspec": {
      "name": "python3",
      "display_name": "Python 3"
    }
  },
  "cells": [
    {
      "cell_type": "markdown",
      "metadata": {
        "id": "view-in-github",
        "colab_type": "text"
      },
      "source": [
        "<a href=\"https://colab.research.google.com/github/ritallopes/OFP-ES/blob/preprocessing/OFP2.ipynb\" target=\"_parent\"><img src=\"https://colab.research.google.com/assets/colab-badge.svg\" alt=\"Open In Colab\"/></a>"
      ]
    },
    {
      "cell_type": "code",
      "metadata": {
        "id": "DhI8_GfKg2ed"
      },
      "source": [
        "import pandas as pd\n",
        "import matplotlib.pyplot as plt\n"
      ],
      "execution_count": 58,
      "outputs": []
    },
    {
      "cell_type": "code",
      "metadata": {
        "id": "39seJEhhRzL8",
        "outputId": "273bbb7a-1fc7-4c92-d448-b160e4cf82e3",
        "colab": {
          "base_uri": "https://localhost:8080/",
          "height": 33
        }
      },
      "source": [
        "#definindo estados do nordeste e suas siglas referentes\n",
        "etiquetas = ['AL',\n",
        "    'BA-1',\n",
        "    'BA-2',\n",
        "    'CE',\n",
        "    'MA',\n",
        "    'PB',\n",
        "    'PE',\n",
        "    'PI',\n",
        "    'RN',\n",
        "    'SE']\n",
        "etiquetas"
      ],
      "execution_count": 107,
      "outputs": [
        {
          "output_type": "execute_result",
          "data": {
            "text/plain": [
              "['AL', 'BA-1', 'BA-2', 'CE', 'MA', 'PB', 'PE', 'PI', 'RN', 'SE']"
            ]
          },
          "metadata": {
            "tags": []
          },
          "execution_count": 107
        }
      ]
    },
    {
      "cell_type": "markdown",
      "metadata": {
        "id": "xH2UeH5_lFbF"
      },
      "source": [
        "1.0.  importing and knowing dataset\n",
        "\n"
      ]
    },
    {
      "cell_type": "code",
      "metadata": {
        "id": "-LHdU4GZSQqI",
        "outputId": "5b22b7da-8be3-4107-f919-666967640833",
        "colab": {
          "base_uri": "https://localhost:8080/",
          "height": 416
        }
      },
      "source": [
        "data_br =pd.DataFrame()\n",
        "for sigla in etiquetas:\n",
        "    locals()['covid_%s'%sigla.lower()] = pd.read_csv('https://s3-sa-east-1.amazonaws.com/ckan.saude.gov.br/dados-{}.csv'.format(sigla.lower()), encoding='latin-1', sep=';')\n",
        "    data_br = pd.concat([data_br ,(locals()['covid_%s'%sigla.lower()])], axis=0, ignore_index=True)\n"
      ],
      "execution_count": 106,
      "outputs": [
        {
          "output_type": "stream",
          "text": [
            "/usr/local/lib/python3.6/dist-packages/IPython/core/interactiveshell.py:2718: DtypeWarning:\n",
            "\n",
            "Columns (15,17,21,23) have mixed types.Specify dtype option on import or set low_memory=False.\n",
            "\n",
            "/usr/local/lib/python3.6/dist-packages/IPython/core/interactiveshell.py:2718: DtypeWarning:\n",
            "\n",
            "Columns (15,21) have mixed types.Specify dtype option on import or set low_memory=False.\n",
            "\n",
            "/usr/local/lib/python3.6/dist-packages/IPython/core/interactiveshell.py:2718: DtypeWarning:\n",
            "\n",
            "Columns (15,21,26) have mixed types.Specify dtype option on import or set low_memory=False.\n",
            "\n",
            "/usr/local/lib/python3.6/dist-packages/IPython/core/interactiveshell.py:2718: DtypeWarning:\n",
            "\n",
            "Columns (26) have mixed types.Specify dtype option on import or set low_memory=False.\n",
            "\n",
            "/usr/local/lib/python3.6/dist-packages/IPython/core/interactiveshell.py:2718: DtypeWarning:\n",
            "\n",
            "Columns (15,21,23,26) have mixed types.Specify dtype option on import or set low_memory=False.\n",
            "\n",
            "/usr/local/lib/python3.6/dist-packages/IPython/core/interactiveshell.py:2718: DtypeWarning:\n",
            "\n",
            "Columns (15,21,23) have mixed types.Specify dtype option on import or set low_memory=False.\n",
            "\n"
          ],
          "name": "stderr"
        }
      ]
    },
    {
      "cell_type": "code",
      "metadata": {
        "id": "pOt-EM_isjnd",
        "outputId": "137ba962-0454-4869-9dcd-4b37c44b93b7",
        "colab": {
          "base_uri": "https://localhost:8080/",
          "height": 676
        }
      },
      "source": [
        "data_br"
      ],
      "execution_count": 108,
      "outputs": [
        {
          "output_type": "execute_result",
          "data": {
            "text/html": [
              "<div>\n",
              "<style scoped>\n",
              "    .dataframe tbody tr th:only-of-type {\n",
              "        vertical-align: middle;\n",
              "    }\n",
              "\n",
              "    .dataframe tbody tr th {\n",
              "        vertical-align: top;\n",
              "    }\n",
              "\n",
              "    .dataframe thead th {\n",
              "        text-align: right;\n",
              "    }\n",
              "</style>\n",
              "<table border=\"1\" class=\"dataframe\">\n",
              "  <thead>\n",
              "    <tr style=\"text-align: right;\">\n",
              "      <th></th>\n",
              "      <th>ÿid</th>\n",
              "      <th>dataNotificacao</th>\n",
              "      <th>dataInicioSintomas</th>\n",
              "      <th>dataNascimento</th>\n",
              "      <th>sintomas</th>\n",
              "      <th>profissionalSaude</th>\n",
              "      <th>cbo</th>\n",
              "      <th>condicoes</th>\n",
              "      <th>estadoTeste</th>\n",
              "      <th>dataTeste</th>\n",
              "      <th>tipoTeste</th>\n",
              "      <th>resultadoTeste</th>\n",
              "      <th>paisOrigem</th>\n",
              "      <th>sexo</th>\n",
              "      <th>estado</th>\n",
              "      <th>estadoIBGE</th>\n",
              "      <th>municipio</th>\n",
              "      <th>municipioIBGE</th>\n",
              "      <th>origem</th>\n",
              "      <th>cnes</th>\n",
              "      <th>estadoNotificacao</th>\n",
              "      <th>estadoNotificacaoIBGE</th>\n",
              "      <th>municipioNotificacao</th>\n",
              "      <th>municipioNotificacaoIBGE</th>\n",
              "      <th>excluido</th>\n",
              "      <th>validado</th>\n",
              "      <th>idade</th>\n",
              "      <th>dataEncerramento</th>\n",
              "      <th>evolucaoCaso</th>\n",
              "      <th>classificacaoFinal</th>\n",
              "    </tr>\n",
              "  </thead>\n",
              "  <tbody>\n",
              "    <tr>\n",
              "      <th>0</th>\n",
              "      <td>6DIaF7l5DB</td>\n",
              "      <td>2020-05-26T00:29:06.577Z</td>\n",
              "      <td>2020-05-10T03:00:00.000Z</td>\n",
              "      <td>1985-01-02T03:00:00.000Z</td>\n",
              "      <td>Febre, Tosse, Outros</td>\n",
              "      <td>Não</td>\n",
              "      <td>NaN</td>\n",
              "      <td>NaN</td>\n",
              "      <td>Coletado</td>\n",
              "      <td>2020-05-25T03:00:00.000Z</td>\n",
              "      <td>NaN</td>\n",
              "      <td>NaN</td>\n",
              "      <td>undefined</td>\n",
              "      <td>Feminino</td>\n",
              "      <td>ALAGOAS</td>\n",
              "      <td>27</td>\n",
              "      <td>Joaquim Gomes</td>\n",
              "      <td>2703809</td>\n",
              "      <td>undefined</td>\n",
              "      <td>undefined</td>\n",
              "      <td>ALAGOAS</td>\n",
              "      <td>27</td>\n",
              "      <td>Joaquim Gomes</td>\n",
              "      <td>2703809</td>\n",
              "      <td>undefined</td>\n",
              "      <td>undefined</td>\n",
              "      <td>35</td>\n",
              "      <td>NaN</td>\n",
              "      <td>NaN</td>\n",
              "      <td>NaN</td>\n",
              "    </tr>\n",
              "    <tr>\n",
              "      <th>1</th>\n",
              "      <td>TgsKoaU6YG</td>\n",
              "      <td>2020-04-20T03:00:00.000Z</td>\n",
              "      <td>2020-04-12T03:00:00.000Z</td>\n",
              "      <td>1976-08-27T03:00:00.000Z</td>\n",
              "      <td>Dispneia, Febre</td>\n",
              "      <td>Não</td>\n",
              "      <td>NaN</td>\n",
              "      <td>NaN</td>\n",
              "      <td>Concluído</td>\n",
              "      <td>2020-04-19T03:00:00.000Z</td>\n",
              "      <td>RT-PCR</td>\n",
              "      <td>Positivo</td>\n",
              "      <td>undefined</td>\n",
              "      <td>Masculino</td>\n",
              "      <td>ALAGOAS</td>\n",
              "      <td>27</td>\n",
              "      <td>Maceió</td>\n",
              "      <td>2704302</td>\n",
              "      <td>undefined</td>\n",
              "      <td>undefined</td>\n",
              "      <td>ALAGOAS</td>\n",
              "      <td>27</td>\n",
              "      <td>Maceió</td>\n",
              "      <td>2704302</td>\n",
              "      <td>undefined</td>\n",
              "      <td>undefined</td>\n",
              "      <td>43</td>\n",
              "      <td>2020-05-20T03:00:00.000Z</td>\n",
              "      <td>Cura</td>\n",
              "      <td>Confirmado Laboratorial</td>\n",
              "    </tr>\n",
              "    <tr>\n",
              "      <th>2</th>\n",
              "      <td>7zp7ZEqRcx</td>\n",
              "      <td>2020-05-15T02:48:06.361Z</td>\n",
              "      <td>2020-04-30T03:00:00.000Z</td>\n",
              "      <td>1989-12-09T02:00:00.000Z</td>\n",
              "      <td>Febre, Tosse, Dor de Garganta, Dispneia</td>\n",
              "      <td>Sim</td>\n",
              "      <td>2232 - CIRURGIÃO-DENTISTA</td>\n",
              "      <td>NaN</td>\n",
              "      <td>Concluído</td>\n",
              "      <td>2020-05-11T03:00:00.000Z</td>\n",
              "      <td>TESTE RÁPIDO - ANTICORPO</td>\n",
              "      <td>Positivo</td>\n",
              "      <td>undefined</td>\n",
              "      <td>Feminino</td>\n",
              "      <td>ALAGOAS</td>\n",
              "      <td>27</td>\n",
              "      <td>São José da Laje</td>\n",
              "      <td>2708303</td>\n",
              "      <td>undefined</td>\n",
              "      <td>2722356</td>\n",
              "      <td>ALAGOAS</td>\n",
              "      <td>27</td>\n",
              "      <td>São José da Laje</td>\n",
              "      <td>2708303</td>\n",
              "      <td>undefined</td>\n",
              "      <td>undefined</td>\n",
              "      <td>30</td>\n",
              "      <td>2020-05-20T03:00:00.000Z</td>\n",
              "      <td>Em tratamento domiciliar</td>\n",
              "      <td>Confirmado Laboratorial</td>\n",
              "    </tr>\n",
              "    <tr>\n",
              "      <th>3</th>\n",
              "      <td>0fVCqcORJ1</td>\n",
              "      <td>2020-04-21T10:44:54.764Z</td>\n",
              "      <td>2020-04-16T03:00:00.000Z</td>\n",
              "      <td>1975-04-02T03:00:00.000Z</td>\n",
              "      <td>Dor de Garganta, Febre, Outros</td>\n",
              "      <td>Não</td>\n",
              "      <td>NaN</td>\n",
              "      <td>NaN</td>\n",
              "      <td>Concluído</td>\n",
              "      <td>2020-04-21T03:00:00.000Z</td>\n",
              "      <td>RT-PCR</td>\n",
              "      <td>Positivo</td>\n",
              "      <td>undefined</td>\n",
              "      <td>Feminino</td>\n",
              "      <td>ALAGOAS</td>\n",
              "      <td>27</td>\n",
              "      <td>Maceió</td>\n",
              "      <td>2704302</td>\n",
              "      <td>undefined</td>\n",
              "      <td>980016281450332</td>\n",
              "      <td>ALAGOAS</td>\n",
              "      <td>27</td>\n",
              "      <td>Maceió</td>\n",
              "      <td>2704302</td>\n",
              "      <td>undefined</td>\n",
              "      <td>undefined</td>\n",
              "      <td>45</td>\n",
              "      <td>2020-04-24T03:00:00.000Z</td>\n",
              "      <td>Cura</td>\n",
              "      <td>Confirmado Laboratorial</td>\n",
              "    </tr>\n",
              "    <tr>\n",
              "      <th>4</th>\n",
              "      <td>Go6HUkB6MD</td>\n",
              "      <td>2020-04-21T07:07:11.482Z</td>\n",
              "      <td>2020-04-16T03:00:00.000Z</td>\n",
              "      <td>1958-04-27T03:00:00.000Z</td>\n",
              "      <td>Febre, Outros</td>\n",
              "      <td>Não</td>\n",
              "      <td>NaN</td>\n",
              "      <td>NaN</td>\n",
              "      <td>Concluído</td>\n",
              "      <td>2020-04-21T03:00:00.000Z</td>\n",
              "      <td>RT-PCR</td>\n",
              "      <td>Positivo</td>\n",
              "      <td>undefined</td>\n",
              "      <td>Feminino</td>\n",
              "      <td>ALAGOAS</td>\n",
              "      <td>27</td>\n",
              "      <td>Maceió</td>\n",
              "      <td>2704302</td>\n",
              "      <td>undefined</td>\n",
              "      <td>undefined</td>\n",
              "      <td>ALAGOAS</td>\n",
              "      <td>27</td>\n",
              "      <td>Maceió</td>\n",
              "      <td>2704302</td>\n",
              "      <td>undefined</td>\n",
              "      <td>undefined</td>\n",
              "      <td>62</td>\n",
              "      <td>2020-04-24T03:00:00.000Z</td>\n",
              "      <td>Cura</td>\n",
              "      <td>Confirmado Laboratorial</td>\n",
              "    </tr>\n",
              "    <tr>\n",
              "      <th>...</th>\n",
              "      <td>...</td>\n",
              "      <td>...</td>\n",
              "      <td>...</td>\n",
              "      <td>...</td>\n",
              "      <td>...</td>\n",
              "      <td>...</td>\n",
              "      <td>...</td>\n",
              "      <td>...</td>\n",
              "      <td>...</td>\n",
              "      <td>...</td>\n",
              "      <td>...</td>\n",
              "      <td>...</td>\n",
              "      <td>...</td>\n",
              "      <td>...</td>\n",
              "      <td>...</td>\n",
              "      <td>...</td>\n",
              "      <td>...</td>\n",
              "      <td>...</td>\n",
              "      <td>...</td>\n",
              "      <td>...</td>\n",
              "      <td>...</td>\n",
              "      <td>...</td>\n",
              "      <td>...</td>\n",
              "      <td>...</td>\n",
              "      <td>...</td>\n",
              "      <td>...</td>\n",
              "      <td>...</td>\n",
              "      <td>...</td>\n",
              "      <td>...</td>\n",
              "      <td>...</td>\n",
              "    </tr>\n",
              "    <tr>\n",
              "      <th>4926866</th>\n",
              "      <td>CCp86HDc71</td>\n",
              "      <td>2020-10-16T03:00:00.000Z</td>\n",
              "      <td>2020-10-16T03:00:00.000Z</td>\n",
              "      <td>1994-12-30T02:00:00.000Z</td>\n",
              "      <td>Assintomático</td>\n",
              "      <td>Não</td>\n",
              "      <td>NaN</td>\n",
              "      <td>NaN</td>\n",
              "      <td>Coletado</td>\n",
              "      <td>2020-10-16T03:00:00.000Z</td>\n",
              "      <td>RT-PCR</td>\n",
              "      <td>NaN</td>\n",
              "      <td>undefined</td>\n",
              "      <td>Feminino</td>\n",
              "      <td>SERGIPE</td>\n",
              "      <td>28</td>\n",
              "      <td>Poço Verde</td>\n",
              "      <td>2805505</td>\n",
              "      <td>undefined</td>\n",
              "      <td>undefined</td>\n",
              "      <td>SERGIPE</td>\n",
              "      <td>28</td>\n",
              "      <td>Poço Verde</td>\n",
              "      <td>2805505</td>\n",
              "      <td>undefined</td>\n",
              "      <td>undefined</td>\n",
              "      <td>25</td>\n",
              "      <td>NaN</td>\n",
              "      <td>NaN</td>\n",
              "      <td>NaN</td>\n",
              "    </tr>\n",
              "    <tr>\n",
              "      <th>4926867</th>\n",
              "      <td>EFxdWL3Czl</td>\n",
              "      <td>2020-10-17T03:00:42.595Z</td>\n",
              "      <td>2020-10-13T03:00:00.000Z</td>\n",
              "      <td>2001-12-17T02:00:00.000Z</td>\n",
              "      <td>Tosse, Dispneia</td>\n",
              "      <td>Não</td>\n",
              "      <td>NaN</td>\n",
              "      <td>NaN</td>\n",
              "      <td>Coletado</td>\n",
              "      <td>2020-10-16T03:00:00.000Z</td>\n",
              "      <td>RT-PCR</td>\n",
              "      <td>NaN</td>\n",
              "      <td>undefined</td>\n",
              "      <td>Feminino</td>\n",
              "      <td>SERGIPE</td>\n",
              "      <td>28</td>\n",
              "      <td>Pedrinhas</td>\n",
              "      <td>2805109</td>\n",
              "      <td>undefined</td>\n",
              "      <td>6901743</td>\n",
              "      <td>SERGIPE</td>\n",
              "      <td>28</td>\n",
              "      <td>Estância</td>\n",
              "      <td>2802106</td>\n",
              "      <td>undefined</td>\n",
              "      <td>undefined</td>\n",
              "      <td>18</td>\n",
              "      <td>NaN</td>\n",
              "      <td>NaN</td>\n",
              "      <td>NaN</td>\n",
              "    </tr>\n",
              "    <tr>\n",
              "      <th>4926868</th>\n",
              "      <td>kIBjlDzZMV</td>\n",
              "      <td>2020-10-17T03:00:05.142Z</td>\n",
              "      <td>2020-10-13T03:00:00.000Z</td>\n",
              "      <td>1964-10-22T03:00:00.000Z</td>\n",
              "      <td>Tosse, Dispneia</td>\n",
              "      <td>Não</td>\n",
              "      <td>NaN</td>\n",
              "      <td>NaN</td>\n",
              "      <td>Coletado</td>\n",
              "      <td>2020-10-16T03:00:00.000Z</td>\n",
              "      <td>RT-PCR</td>\n",
              "      <td>NaN</td>\n",
              "      <td>undefined</td>\n",
              "      <td>Masculino</td>\n",
              "      <td>SERGIPE</td>\n",
              "      <td>28</td>\n",
              "      <td>Indiaroba</td>\n",
              "      <td>2802809</td>\n",
              "      <td>undefined</td>\n",
              "      <td>6901743</td>\n",
              "      <td>SERGIPE</td>\n",
              "      <td>28</td>\n",
              "      <td>Estância</td>\n",
              "      <td>2802106</td>\n",
              "      <td>undefined</td>\n",
              "      <td>undefined</td>\n",
              "      <td>55</td>\n",
              "      <td>NaN</td>\n",
              "      <td>NaN</td>\n",
              "      <td>NaN</td>\n",
              "    </tr>\n",
              "    <tr>\n",
              "      <th>4926869</th>\n",
              "      <td>iUAAlwVDR9</td>\n",
              "      <td>2020-10-17T03:00:06.995Z</td>\n",
              "      <td>2020-10-13T03:00:00.000Z</td>\n",
              "      <td>1970-11-08T03:00:00.000Z</td>\n",
              "      <td>Tosse, Dispneia</td>\n",
              "      <td>Não</td>\n",
              "      <td>NaN</td>\n",
              "      <td>NaN</td>\n",
              "      <td>Coletado</td>\n",
              "      <td>2020-10-16T03:00:00.000Z</td>\n",
              "      <td>RT-PCR</td>\n",
              "      <td>NaN</td>\n",
              "      <td>undefined</td>\n",
              "      <td>Masculino</td>\n",
              "      <td>SERGIPE</td>\n",
              "      <td>28</td>\n",
              "      <td>Estância</td>\n",
              "      <td>2802106</td>\n",
              "      <td>undefined</td>\n",
              "      <td>6901743</td>\n",
              "      <td>SERGIPE</td>\n",
              "      <td>28</td>\n",
              "      <td>Estância</td>\n",
              "      <td>2802106</td>\n",
              "      <td>undefined</td>\n",
              "      <td>undefined</td>\n",
              "      <td>49</td>\n",
              "      <td>NaN</td>\n",
              "      <td>NaN</td>\n",
              "      <td>NaN</td>\n",
              "    </tr>\n",
              "    <tr>\n",
              "      <th>4926870</th>\n",
              "      <td>NMxT0NTAh4</td>\n",
              "      <td>2020-10-17T03:00:49.183Z</td>\n",
              "      <td>2020-10-16T03:00:00.000Z</td>\n",
              "      <td>1959-07-24T03:00:00.000Z</td>\n",
              "      <td>Dor de Cabeça, Dor de Garganta, Tosse</td>\n",
              "      <td>Não</td>\n",
              "      <td>NaN</td>\n",
              "      <td>NaN</td>\n",
              "      <td>Coletado</td>\n",
              "      <td>NaN</td>\n",
              "      <td>RT-PCR</td>\n",
              "      <td>NaN</td>\n",
              "      <td>undefined</td>\n",
              "      <td>Feminino</td>\n",
              "      <td>SERGIPE</td>\n",
              "      <td>28</td>\n",
              "      <td>Aracaju</td>\n",
              "      <td>2800308</td>\n",
              "      <td>undefined</td>\n",
              "      <td>6003494</td>\n",
              "      <td>SERGIPE</td>\n",
              "      <td>28</td>\n",
              "      <td>Aracaju</td>\n",
              "      <td>2800308</td>\n",
              "      <td>undefined</td>\n",
              "      <td>undefined</td>\n",
              "      <td>61</td>\n",
              "      <td>NaN</td>\n",
              "      <td>NaN</td>\n",
              "      <td>NaN</td>\n",
              "    </tr>\n",
              "  </tbody>\n",
              "</table>\n",
              "<p>4926871 rows × 30 columns</p>\n",
              "</div>"
            ],
            "text/plain": [
              "                ÿid  ...       classificacaoFinal\n",
              "0        6DIaF7l5DB  ...                      NaN\n",
              "1        TgsKoaU6YG  ...  Confirmado Laboratorial\n",
              "2        7zp7ZEqRcx  ...  Confirmado Laboratorial\n",
              "3        0fVCqcORJ1  ...  Confirmado Laboratorial\n",
              "4        Go6HUkB6MD  ...  Confirmado Laboratorial\n",
              "...             ...  ...                      ...\n",
              "4926866  CCp86HDc71  ...                      NaN\n",
              "4926867  EFxdWL3Czl  ...                      NaN\n",
              "4926868  kIBjlDzZMV  ...                      NaN\n",
              "4926869  iUAAlwVDR9  ...                      NaN\n",
              "4926870  NMxT0NTAh4  ...                      NaN\n",
              "\n",
              "[4926871 rows x 30 columns]"
            ]
          },
          "metadata": {
            "tags": []
          },
          "execution_count": 108
        }
      ]
    },
    {
      "cell_type": "code",
      "metadata": {
        "id": "zxPFYLM0pV-l",
        "outputId": "b2cf7efe-9c1f-4a74-87bb-2171dddeb7c2",
        "colab": {
          "base_uri": "https://localhost:8080/",
          "height": 33
        }
      },
      "source": [
        "covid_ce.shape"
      ],
      "execution_count": 89,
      "outputs": [
        {
          "output_type": "execute_result",
          "data": {
            "text/plain": [
              "(818848, 30)"
            ]
          },
          "metadata": {
            "tags": []
          },
          "execution_count": 89
        }
      ]
    },
    {
      "cell_type": "code",
      "metadata": {
        "id": "N4E9C2GLpl7B",
        "outputId": "1651a69b-c1f0-4e55-fbdb-7bead2ec44fc",
        "colab": {
          "base_uri": "https://localhost:8080/",
          "height": 33
        }
      },
      "source": [
        "covid_ba.shape"
      ],
      "execution_count": 87,
      "outputs": [
        {
          "output_type": "execute_result",
          "data": {
            "text/plain": [
              "(1276388, 30)"
            ]
          },
          "metadata": {
            "tags": []
          },
          "execution_count": 87
        }
      ]
    },
    {
      "cell_type": "code",
      "metadata": {
        "id": "QupxVV5DWrvg",
        "outputId": "43751104-f204-4a99-88e1-aa68c8cbe60a",
        "colab": {
          "base_uri": "https://localhost:8080/",
          "height": 467
        }
      },
      "source": [
        "covid_rn.tail()\n"
      ],
      "execution_count": 61,
      "outputs": [
        {
          "output_type": "execute_result",
          "data": {
            "text/html": [
              "<div>\n",
              "<style scoped>\n",
              "    .dataframe tbody tr th:only-of-type {\n",
              "        vertical-align: middle;\n",
              "    }\n",
              "\n",
              "    .dataframe tbody tr th {\n",
              "        vertical-align: top;\n",
              "    }\n",
              "\n",
              "    .dataframe thead th {\n",
              "        text-align: right;\n",
              "    }\n",
              "</style>\n",
              "<table border=\"1\" class=\"dataframe\">\n",
              "  <thead>\n",
              "    <tr style=\"text-align: right;\">\n",
              "      <th></th>\n",
              "      <th>ÿid</th>\n",
              "      <th>dataNotificacao</th>\n",
              "      <th>dataInicioSintomas</th>\n",
              "      <th>dataNascimento</th>\n",
              "      <th>sintomas</th>\n",
              "      <th>profissionalSaude</th>\n",
              "      <th>cbo</th>\n",
              "      <th>condicoes</th>\n",
              "      <th>estadoTeste</th>\n",
              "      <th>dataTeste</th>\n",
              "      <th>tipoTeste</th>\n",
              "      <th>resultadoTeste</th>\n",
              "      <th>paisOrigem</th>\n",
              "      <th>sexo</th>\n",
              "      <th>estado</th>\n",
              "      <th>estadoIBGE</th>\n",
              "      <th>municipio</th>\n",
              "      <th>municipioIBGE</th>\n",
              "      <th>origem</th>\n",
              "      <th>cnes</th>\n",
              "      <th>estadoNotificacao</th>\n",
              "      <th>estadoNotificacaoIBGE</th>\n",
              "      <th>municipioNotificacao</th>\n",
              "      <th>municipioNotificacaoIBGE</th>\n",
              "      <th>excluido</th>\n",
              "      <th>validado</th>\n",
              "      <th>idade</th>\n",
              "      <th>dataEncerramento</th>\n",
              "      <th>evolucaoCaso</th>\n",
              "      <th>classificacaoFinal</th>\n",
              "    </tr>\n",
              "  </thead>\n",
              "  <tbody>\n",
              "    <tr>\n",
              "      <th>404393</th>\n",
              "      <td>h9wdVZcMUY</td>\n",
              "      <td>2020-10-16T03:00:00.538Z</td>\n",
              "      <td>2020-10-11T03:00:00.000Z</td>\n",
              "      <td>1983-09-08T03:00:00.000Z</td>\n",
              "      <td>Tosse, Dor de Garganta</td>\n",
              "      <td>Não</td>\n",
              "      <td>NaN</td>\n",
              "      <td>Doenças cardíacas crônicas</td>\n",
              "      <td>Solicitado</td>\n",
              "      <td>NaN</td>\n",
              "      <td>RT-PCR</td>\n",
              "      <td>NaN</td>\n",
              "      <td>undefined</td>\n",
              "      <td>Masculino</td>\n",
              "      <td>RIO GRANDE DO NORTE</td>\n",
              "      <td>24</td>\n",
              "      <td>Jundiá</td>\n",
              "      <td>2406155</td>\n",
              "      <td>undefined</td>\n",
              "      <td>2375168</td>\n",
              "      <td>RIO GRANDE DO NORTE</td>\n",
              "      <td>24</td>\n",
              "      <td>Jundiá</td>\n",
              "      <td>2406155</td>\n",
              "      <td>undefined</td>\n",
              "      <td>undefined</td>\n",
              "      <td>37</td>\n",
              "      <td>NaN</td>\n",
              "      <td>NaN</td>\n",
              "      <td>NaN</td>\n",
              "    </tr>\n",
              "    <tr>\n",
              "      <th>404394</th>\n",
              "      <td>0uX955ZAyP</td>\n",
              "      <td>2020-10-16T03:00:07.539Z</td>\n",
              "      <td>2020-10-16T03:00:00.000Z</td>\n",
              "      <td>1989-07-17T03:00:00.000Z</td>\n",
              "      <td>Assintomático</td>\n",
              "      <td>Não</td>\n",
              "      <td>NaN</td>\n",
              "      <td>NaN</td>\n",
              "      <td>Concluído</td>\n",
              "      <td>2020-10-16T03:00:00.000Z</td>\n",
              "      <td>TESTE RÁPIDO - ANTICORPO</td>\n",
              "      <td>Negativo</td>\n",
              "      <td>undefined</td>\n",
              "      <td>Masculino</td>\n",
              "      <td>RIO GRANDE DO NORTE</td>\n",
              "      <td>24</td>\n",
              "      <td>Cerro Corá</td>\n",
              "      <td>2402709</td>\n",
              "      <td>undefined</td>\n",
              "      <td>undefined</td>\n",
              "      <td>MINAS GERAIS</td>\n",
              "      <td>31</td>\n",
              "      <td>Araguari</td>\n",
              "      <td>3103504</td>\n",
              "      <td>undefined</td>\n",
              "      <td>undefined</td>\n",
              "      <td>31</td>\n",
              "      <td>NaN</td>\n",
              "      <td>NaN</td>\n",
              "      <td>NaN</td>\n",
              "    </tr>\n",
              "    <tr>\n",
              "      <th>404395</th>\n",
              "      <td>SwZYCNbXIF</td>\n",
              "      <td>2020-10-16T03:00:57.083Z</td>\n",
              "      <td>2020-10-14T03:00:00.000Z</td>\n",
              "      <td>1992-06-21T03:00:00.000Z</td>\n",
              "      <td>Tosse, Dispneia, Coriza, Outros</td>\n",
              "      <td>Não</td>\n",
              "      <td>NaN</td>\n",
              "      <td>NaN</td>\n",
              "      <td>Exame Não Solicitado</td>\n",
              "      <td>NaN</td>\n",
              "      <td>NaN</td>\n",
              "      <td>NaN</td>\n",
              "      <td>undefined</td>\n",
              "      <td>Masculino</td>\n",
              "      <td>RIO GRANDE DO NORTE</td>\n",
              "      <td>24</td>\n",
              "      <td>Natal</td>\n",
              "      <td>2408102</td>\n",
              "      <td>undefined</td>\n",
              "      <td>2408627</td>\n",
              "      <td>RIO GRANDE DO NORTE</td>\n",
              "      <td>24</td>\n",
              "      <td>Natal</td>\n",
              "      <td>2408102</td>\n",
              "      <td>undefined</td>\n",
              "      <td>undefined</td>\n",
              "      <td>28</td>\n",
              "      <td>NaN</td>\n",
              "      <td>NaN</td>\n",
              "      <td>NaN</td>\n",
              "    </tr>\n",
              "    <tr>\n",
              "      <th>404396</th>\n",
              "      <td>OMspYNNZO3</td>\n",
              "      <td>2020-10-16T03:00:32.971Z</td>\n",
              "      <td>2020-10-14T03:00:00.000Z</td>\n",
              "      <td>2006-01-01T02:00:00.000Z</td>\n",
              "      <td>Febre, Tosse, Dor de Cabeça</td>\n",
              "      <td>Não</td>\n",
              "      <td>NaN</td>\n",
              "      <td>NaN</td>\n",
              "      <td>Coletado</td>\n",
              "      <td>2020-10-16T03:00:00.000Z</td>\n",
              "      <td>TESTE RÁPIDO - ANTÍGENO</td>\n",
              "      <td>NaN</td>\n",
              "      <td>undefined</td>\n",
              "      <td>Masculino</td>\n",
              "      <td>RIO GRANDE DO NORTE</td>\n",
              "      <td>24</td>\n",
              "      <td>Pedro Velho</td>\n",
              "      <td>2409803</td>\n",
              "      <td>undefined</td>\n",
              "      <td>980016287354521</td>\n",
              "      <td>RIO GRANDE DO NORTE</td>\n",
              "      <td>24</td>\n",
              "      <td>Pedro Velho</td>\n",
              "      <td>2409803</td>\n",
              "      <td>undefined</td>\n",
              "      <td>undefined</td>\n",
              "      <td>14</td>\n",
              "      <td>NaN</td>\n",
              "      <td>NaN</td>\n",
              "      <td>NaN</td>\n",
              "    </tr>\n",
              "    <tr>\n",
              "      <th>404397</th>\n",
              "      <td>CmPI5jfnmZ</td>\n",
              "      <td>2020-10-16T03:00:30.830Z</td>\n",
              "      <td>2020-10-14T03:00:00.000Z</td>\n",
              "      <td>2006-04-26T03:00:00.000Z</td>\n",
              "      <td>Dor de Cabeça</td>\n",
              "      <td>Não</td>\n",
              "      <td>NaN</td>\n",
              "      <td>NaN</td>\n",
              "      <td>Solicitado</td>\n",
              "      <td>NaN</td>\n",
              "      <td>RT-PCR</td>\n",
              "      <td>NaN</td>\n",
              "      <td>undefined</td>\n",
              "      <td>Feminino</td>\n",
              "      <td>RIO GRANDE DO NORTE</td>\n",
              "      <td>24</td>\n",
              "      <td>Pedro Velho</td>\n",
              "      <td>2409803</td>\n",
              "      <td>undefined</td>\n",
              "      <td>980016287354521</td>\n",
              "      <td>RIO GRANDE DO NORTE</td>\n",
              "      <td>24</td>\n",
              "      <td>Pedro Velho</td>\n",
              "      <td>2409803</td>\n",
              "      <td>undefined</td>\n",
              "      <td>undefined</td>\n",
              "      <td>14</td>\n",
              "      <td>NaN</td>\n",
              "      <td>NaN</td>\n",
              "      <td>NaN</td>\n",
              "    </tr>\n",
              "  </tbody>\n",
              "</table>\n",
              "</div>"
            ],
            "text/plain": [
              "               ÿid           dataNotificacao  ... evolucaoCaso classificacaoFinal\n",
              "404393  h9wdVZcMUY  2020-10-16T03:00:00.538Z  ...          NaN                NaN\n",
              "404394  0uX955ZAyP  2020-10-16T03:00:07.539Z  ...          NaN                NaN\n",
              "404395  SwZYCNbXIF  2020-10-16T03:00:57.083Z  ...          NaN                NaN\n",
              "404396  OMspYNNZO3  2020-10-16T03:00:32.971Z  ...          NaN                NaN\n",
              "404397  CmPI5jfnmZ  2020-10-16T03:00:30.830Z  ...          NaN                NaN\n",
              "\n",
              "[5 rows x 30 columns]"
            ]
          },
          "metadata": {
            "tags": []
          },
          "execution_count": 61
        }
      ]
    },
    {
      "cell_type": "code",
      "metadata": {
        "id": "ej3weAB4vclX",
        "outputId": "1ebfb466-351f-4ccc-8e49-c9a1db0abd29",
        "colab": {
          "base_uri": "https://localhost:8080/",
          "height": 33
        }
      },
      "source": [
        "covid_rn.condicoes.unique()\n",
        "#doenças pre-existentes\n",
        "covid_rn.loc[covid_rn.evolucaoCaso==\"Óbito\",\"condicoes\"].unique()\n",
        "#doencas cronicas cardiacas e respiratórias em quase todas as mortes documentadas\n",
        "covid_rn.validado.unique()"
      ],
      "execution_count": 62,
      "outputs": [
        {
          "output_type": "execute_result",
          "data": {
            "text/plain": [
              "array(['undefined'], dtype=object)"
            ]
          },
          "metadata": {
            "tags": []
          },
          "execution_count": 62
        }
      ]
    },
    {
      "cell_type": "code",
      "metadata": {
        "id": "97q8Fwrzqz4e",
        "outputId": "4d3e85e9-bf01-4527-9d46-642f568de00f",
        "colab": {
          "base_uri": "https://localhost:8080/",
          "height": 150
        }
      },
      "source": [
        " covid_rn.columns"
      ],
      "execution_count": 63,
      "outputs": [
        {
          "output_type": "execute_result",
          "data": {
            "text/plain": [
              "Index(['ÿid', 'dataNotificacao', 'dataInicioSintomas', 'dataNascimento',\n",
              "       'sintomas', 'profissionalSaude', 'cbo', 'condicoes', 'estadoTeste',\n",
              "       'dataTeste', 'tipoTeste', 'resultadoTeste', 'paisOrigem', 'sexo',\n",
              "       'estado', 'estadoIBGE', 'municipio', 'municipioIBGE', 'origem', 'cnes',\n",
              "       'estadoNotificacao', 'estadoNotificacaoIBGE', 'municipioNotificacao',\n",
              "       'municipioNotificacaoIBGE', 'excluido', 'validado', 'idade',\n",
              "       'dataEncerramento', 'evolucaoCaso', 'classificacaoFinal'],\n",
              "      dtype='object')"
            ]
          },
          "metadata": {
            "tags": []
          },
          "execution_count": 63
        }
      ]
    },
    {
      "cell_type": "code",
      "metadata": {
        "id": "GkHlBvM2oVMc",
        "outputId": "e231c77e-a731-4a05-8d39-68f69b266b99",
        "colab": {
          "base_uri": "https://localhost:8080/",
          "height": 216
        }
      },
      "source": [
        "covid_rn.estadoIBGE"
      ],
      "execution_count": 84,
      "outputs": [
        {
          "output_type": "execute_result",
          "data": {
            "text/plain": [
              "0         24\n",
              "1         24\n",
              "2         24\n",
              "3         24\n",
              "4         24\n",
              "          ..\n",
              "404393    24\n",
              "404394    24\n",
              "404395    24\n",
              "404396    24\n",
              "404397    24\n",
              "Name: estadoIBGE, Length: 404398, dtype: object"
            ]
          },
          "metadata": {
            "tags": []
          },
          "execution_count": 84
        }
      ]
    },
    {
      "cell_type": "code",
      "metadata": {
        "id": "pjqxGA5f0wkq",
        "outputId": "e949d7d5-fd1b-4716-a1c1-f33c12d92076",
        "colab": {
          "base_uri": "https://localhost:8080/",
          "height": 150
        }
      },
      "source": [
        "covid_ba.columns"
      ],
      "execution_count": 64,
      "outputs": [
        {
          "output_type": "execute_result",
          "data": {
            "text/plain": [
              "Index(['ÿid', 'dataNotificacao', 'dataInicioSintomas', 'dataNascimento',\n",
              "       'sintomas', 'profissionalSaude', 'cbo', 'condicoes', 'estadoTeste',\n",
              "       'dataTeste', 'tipoTeste', 'resultadoTeste', 'paisOrigem', 'sexo',\n",
              "       'estado', 'estadoIBGE', 'municipio', 'municipioIBGE', 'origem', 'cnes',\n",
              "       'estadoNotificacao', 'estadoNotificacaoIBGE', 'municipioNotificacao',\n",
              "       'municipioNotificacaoIBGE', 'excluido', 'validado', 'idade',\n",
              "       'dataEncerramento', 'evolucaoCaso', 'classificacaoFinal'],\n",
              "      dtype='object')"
            ]
          },
          "metadata": {
            "tags": []
          },
          "execution_count": 64
        }
      ]
    },
    {
      "cell_type": "code",
      "metadata": {
        "id": "BSceyp0-03yk",
        "outputId": "9c2a7f94-4070-4b91-c784-f6297abe8f62",
        "colab": {
          "base_uri": "https://localhost:8080/",
          "height": 150
        }
      },
      "source": [
        "covid_ce.columns"
      ],
      "execution_count": 65,
      "outputs": [
        {
          "output_type": "execute_result",
          "data": {
            "text/plain": [
              "Index(['ÿid', 'dataNotificacao', 'dataInicioSintomas', 'dataNascimento',\n",
              "       'sintomas', 'profissionalSaude', 'cbo', 'condicoes', 'estadoTeste',\n",
              "       'dataTeste', 'tipoTeste', 'resultadoTeste', 'paisOrigem', 'sexo',\n",
              "       'estado', 'estadoIBGE', 'municipio', 'municipioIBGE', 'origem', 'cnes',\n",
              "       'estadoNotificacao', 'estadoNotificacaoIBGE', 'municipioNotificacao',\n",
              "       'municipioNotificacaoIBGE', 'excluido', 'validado', 'idade',\n",
              "       'dataEncerramento', 'evolucaoCaso', 'classificacaoFinal'],\n",
              "      dtype='object')"
            ]
          },
          "metadata": {
            "tags": []
          },
          "execution_count": 65
        }
      ]
    },
    {
      "cell_type": "code",
      "metadata": {
        "id": "_1ZxMZPrs03g",
        "outputId": "8365c408-9744-4486-c366-53a0c42c1aae",
        "colab": {
          "base_uri": "https://localhost:8080/",
          "height": 1000
        }
      },
      "source": [
        "#Os profissionais que constam no dataset\n",
        "covid_rn.loc[covid_rn.profissionalSaude==\"Sim\",\"cbo\"].unique()\n",
        "#não foram somente profissionais diretamente ligados à saúde que estão relacionados no dataset"
      ],
      "execution_count": 72,
      "outputs": [
        {
          "output_type": "execute_result",
          "data": {
            "text/plain": [
              "array(['3222 - TÉCNICO OU AUXILIAR EM ENFERMAGEM', '2234 - FARMACÊUTICO',\n",
              "       '225 - MÉDICO', '4221 - RECEPCIONISTA',\n",
              "       '515140 - AGENTE DE COMBATE A ENDEMIAS', '2237 - NUTRISIONISTA',\n",
              "       '515105 - AGENTE COMUNITÁRIO DE SAÚDE', '2235 - ENFERMEIRO',\n",
              "       '239 - OUTROS PROFISSIONAIS DE ENSINO',\n",
              "       '2011 - PROFISSIONAL DA BIOTECNOLOGIA',\n",
              "       '3242 - TÉCNICO DE LABORATÓRIO DE SAÚDE OU BANCOS DE SANGUE',\n",
              "       '2232 - CIRURGIÃO-DENTISTA',\n",
              "       '3224\\xa0- TÉCNICO OU AUXILIAR ODONTOLOGIA/SAÚDE BUCAL',\n",
              "       '352210 - AGENTE DE SAÚDE PÚBLICA',\n",
              "       '782320 - CONDUTOR DE AMBULÂNCIA',\n",
              "       '2131 - FÍSICO ATUANDO NA ÁREA DA SAÚDE', '2236 - FISIOTERAPEUTA',\n",
              "       '1312 - GESTORES E ESPECIALISTAS DE OPERAÇÕES EM EMPRESAS, SECRETARIAS E UNIDADES DE SERVIÇOS DE SAÚDE',\n",
              "       '3251\\xa0- TÉCNICO EM FARMÁCIA E MANIPULAÇÃO FARMACÊUTICA',\n",
              "       '2212 - BIOMÉDICO',\n",
              "       '4222 - TELEFONISTA, TELEOPERADOR, MONITOR DE TELEATENDIMENTO OU OPERADOR DE RÁDIO-CHAMADA',\n",
              "       '2132 - QUÍMICO ATUANDO NA ÁREA DA SAÚDE',\n",
              "       '251605 - ASSISTENTE SOCIAL', '5162 - CUIDADOR EM SAÚDE',\n",
              "       '2239 - TERAPEUTA OCUPACIONAL, ORTOPTISTA OU MUSICOTERAPEUTA',\n",
              "       '231 - PROFESSOR DE EDUCAÇÃO INFANTIL OU ENSINO FUNDAMENTAL',\n",
              "       '5151 - OUTRO TIPO DE AGENTE DE SAÚDE OU VISITADOR SANITÁRIO',\n",
              "       '234 - PROFESSOR DE ENSINO SUPERIOR',\n",
              "       '5153 - AUXILIAR DA ÁREA SOCIAL', '2515 - PSICÓLOGO',\n",
              "       '2233 - MÉDICO VETERINÁRIO OU ZOOTECNISTA',\n",
              "       '766420 - AUXILIAR DE RADIOLOGIA',\n",
              "       '3122 - TÉCNICO DE SANEAMENTO ATUANDO NA ÁREA DE SAÚDE',\n",
              "       '2238 - FONOAUDIÓLOGO',\n",
              "       '2149 - ENGENHEIRO DE SEGURANÇA DO TRABALHO OU HIGIENISTA OCUPACIONAL',\n",
              "       '515135 - SOCORRISTA NÃO MÉDICO E NÃO ENFERMEIRO',\n",
              "       '3252\\xa0- TÉCNICO EM PRODUÇÃO, CONSERVAÇÃO E QUALIDADE DE ALIMENTOS',\n",
              "       '3223\\xa0- TÉCNICO EM ÓPTICA E OPTOMETRIA',\n",
              "       '5152 - MICROSCOPISTA OU AUXILIAR DE LABORATÓRIO DA SAÚDE', nan,\n",
              "       '2241 - PROFISSIONAL DA EDUCAÇÃO FÍSICA',\n",
              "       '313 - TÉCNICO EM ELETROELETRÔNICA E FOTÔNICA ATUANDO NA ÁREA DE SAÚDE',\n",
              "       '2237 - NUTRICIONISTA',\n",
              "       '3516 - TÉCNICO DE SEGURANÇA NO TRABALHO OU HIGIENE OCUPACIONAL',\n",
              "       '3225\\xa0- TÉCNCIO EM PRÓTESES ORTOPÉDICAS',\n",
              "       '3241 - TECNÓLOGO OU TÉCNICO EM METODOS DE DIGANÓSTICO E TERAPÊUTICA',\n",
              "       '3226\\xa0- TÉCNICO EM IMOBILIZAÇÃO ORTOPÉDICA', '2211 - BIÓLOGO',\n",
              "       '232 - PROFESSOR DO ENSINO MÉDIO',\n",
              "       '2030 - PESQUISADOR DAS CIÊNCIAS BIOLÓGICAS',\n",
              "       '233 - PROFESSOR DE ENSINO PROFISSIONALIZANTE',\n",
              "       '3221 - TÉCNICO EM ACUPUNTURA, QUIROPRAXIA, MASSOTERAPIA OU TERAPIA HOLÍSTICA',\n",
              "       '515115 -PARTEIRA LEIGA',\n",
              "       '226 - MUSICOTERAPEUTA, ARTETERAPEUTA, EQUOTERAPEUTA OU NATURÓLOGO',\n",
              "       '2235 - ENFERMEIROS E AFINS',\n",
              "       '3222 - TÉCNICOS E AUXILIARES DE ENFERMAGEM',\n",
              "       '2238 - FONOAUDIÓLOGOS', '3224 - TÉCNICOS DE ODONTOLOGIA',\n",
              "       '5151 - TRABALHADORES EM SERVIÇOS DE PROMOÇÃO E APOIO À SAÚDE',\n",
              "       '5132 - COZINHEIROS',\n",
              "       '7823 - MOTORISTAS DE VEÍCULOS DE PEQUENO E MÉDIO PORTE',\n",
              "       '1312 - GESTORES E ESPECIALISTAS DE OPERAÇÕES EM EMPRESAS',\n",
              "       '2232 - CIRURGIÕES-DENTISTAS',\n",
              "       '5173 - VIGILANTES E GUARDAS DE SEGURANÇA',\n",
              "       '2236 - FISIOTERAPEUTAS',\n",
              "       '4153 - TRABALHADORES EM REGISTROS E INFORMAÇÕES EM SAÚDE',\n",
              "       '0212 - CABOS E SOLDADOS DA POLÍCIA MILITAR',\n",
              "       '2515 - PSICÓLOGOS E PSICANALISTAS',\n",
              "       '2523 - SECRETÁRIAS(OS) EXECUTIVAS(OS) E AFINS',\n",
              "       '3251 - TÉCNICO EM FARMÁCIA E EM MANIPULAÇÃO FARMACÊUTICA',\n",
              "       '3242 - TÉCNICOS DE LABORATÓRIOS DE SAÚDE E BANCOS DE SANGUE',\n",
              "       '4221 - RECEPCIONISTAS',\n",
              "       '5101 - SUPERVISORES DOS SERVIÇOS DE TRANSPORTE',\n",
              "       '2237 - NUTRICIONISTAS',\n",
              "       '1236 - DIRETORES DE TECNOLOGIA DA INFORMAÇÃO',\n",
              "       '2239 - TERAPEUTAS OCUPACIONAIS',\n",
              "       '2711 - CHEFES DE COZINHA E AFINS', '2521 - ADMINISTRADORES',\n",
              "       '5142 - TRABALHADORES NOS SERVIÇOS DE COLETA DE RESÍDUOS',\n",
              "       '5174 - PORTEIROS',\n",
              "       '5143 - TRABALHADORES NOS  SERVIÇOS DE MANUTENÇÃO DE EDIFICAÇÕES',\n",
              "       '3522 - AGENTES DA SAÚDE E DO MEIO AMBIENTE',\n",
              "       '5199 - OUTROS TRABALHADORES DOS SERVIÇOS', '4110 - AGENTES',\n",
              "       '5135 - TRABALHADORES AUXILIARES NOS SERVIÇOS DE ALIMENTAÇÃO',\n",
              "       '5164 - LAVADORES E PASSADORES DE ROUPA',\n",
              "       '1210 - DIRETORES GERAIS',\n",
              "       '2253 - MÉDICOS EM MEDICINA DIAGNÓSTICA E TERAPÊUTICA',\n",
              "       '7664 - TRABALHADORES DE LABORATÓRIO FOTOGRÁFICO E RADIOLÓGICO',\n",
              "       '2234 - FARMACÊUTICOS',\n",
              "       '4151 - AUXILIARES DE SERVIÇOS DE DOCUMENTAÇÃO',\n",
              "       '3011 - TÉCNICOS DE LABORATÓRIO INDUSTRIAL',\n",
              "       '2252 - MÉDICOS EM ESPECIALIDADES CIRÚRGICAS',\n",
              "       '2321 - PROFESSORES DO ENSINO MÉDIO',\n",
              "       '0101 - OFICIAIS GENERAIS DAS FORÇAS ARMADAS',\n",
              "       '2251 - MÉDICOS CLÍNICOS',\n",
              "       '3241 - TECNÓLOGOS E TÉCNICOS EM MÉTODOS DE DIAGNÓSTICOS E TERAPÊUTICA',\n",
              "       '7825 - MOTORISTAS DE VEÍCULOS DE CARGAS EM GERAL',\n",
              "       '1425 - GERENTES DE TECNOLOGIA DA INFORMAÇÃO',\n",
              "       '5152 - AUXILIARES DE LABORATÓRIO DA SAÚDE',\n",
              "       '3513 - TÉCNICOS EM ADMINISTRAÇÃO', '5133 - CAMAREIROS',\n",
              "       '1416 - GERENTES DE OPERAÇÕES DE SERVIÇOS EM EMPRESA DE TRANSPORTE',\n",
              "       '2241 - PROFISSIONAIS DA EDUCAÇÃO FÍSICA',\n",
              "       '1114 - DIRIGENTES DO SERVIÇO PÚBLICO',\n",
              "       '2516 - ASSISTENTES SOCIAIS E ECONOMISTAS DOMÉSTICOS',\n",
              "       '2233 - VETERINÁRIOS E ZOOTECNISTAS', '1111 - LEGISLADORES',\n",
              "       '2545 - PROFISSIONAIS DA FISCALIZAÇÃO DE ATIVIDADES URBANAS',\n",
              "       '5162 - CUIDADORES DE CRIANÇAS',\n",
              "       '1311 - DIRETORES E GERENTES DE OPERAÇÕES EM EMPRESA DE SERVIÇOS PESSOAIS',\n",
              "       '4121 - OPERADORES DE EQUIPAMENTOS DE ENTRADA E TRANSMISSÃO DE DADOS',\n",
              "       '3515 - TÉCNICOS EM SECRETARIADO',\n",
              "       '3221 - TECNÓLOGOS E TÉCNICOS EM TERAPIAS COMPLEMENTARES E ESTÉTICAS',\n",
              "       '5161 - TRABALHADORES NOS SERVIÇOS DE EMBELEZAMENTO E HIGIENE',\n",
              "       '4222 - OPERADORES DE TELEFONIA',\n",
              "       '2524 - PROFISSIONAIS DE RECURSOS HUMANOS',\n",
              "       '7301 - SUPERVISORES DE MONTAGENS E INSTALAÇÕES ELETROELETRÔNICAS',\n",
              "       '1225 - DIRETORES DE SERVIÇOS DE TURISMO',\n",
              "       '2030 - PESQUISADORES DAS CIÊNCIAS BIOLÓGICAS',\n",
              "       '5121 - TRABALHADORES DOS SERVIÇOS DOMÉSTICOS EM GERAL',\n",
              "       '1421 - GERENTES ADMINISTRATIVOS', '2212 - BIOMÉDICOS',\n",
              "       '0302 - OFICIAIS INTERMEDIÁRIOS DO CORPO DE BOMBEIROS MILITAR',\n",
              "       '1313 - DIRETORES E GERENTES DE INSTITUIÇÃO DE SERVIÇOS EDUCACIONAIS',\n",
              "       '1112 - DIRIGENTES GERAIS DA ADMINISTRAÇÃO PÚBLICA',\n",
              "       '2313 - PROFESSORES DE NÍVEL SUPERIOR NO ENSINO FUNDAMENTAL DE QUINTA A OITAVA SÉRIE',\n",
              "       '1115 - GESTORES PÚBLICOS',\n",
              "       '5134 - TRABALHADORES NO ATENDIMENTO EM ESTABELECIMENTOS DE SERVIÇOS DE ALIMENTAÇÃO',\n",
              "       '5166 - TRABALHADORES AUXILIARES DOS SERVIÇOS FUNERÁRIOS',\n",
              "       '4131 - AUXILIARES DE CONTABILIDADE',\n",
              "       '2033 - PESQUISADORES DAS CIÊNCIAS DA SAÚDE',\n",
              "       '8118 - OPERADORES DE MÁQUINAS E INSTALAÇÕES DE PRODUTOS FARMACÊUTICOS',\n",
              "       '5172 - POLICIAIS',\n",
              "       '2344 - PROFESSORES DE CIÊNCIAS BIOLÓGICAS E DA SAÚDE DO ENSINO SUPERIOR',\n",
              "       '2011 - PROFISSIONAIS DA BIOTECNOLOGIA',\n",
              "       '3201 - TÉCNICOS EM BIOLOGIA',\n",
              "       '3516 - TÉCNICOS EM SEGURANÇA DO TRABALHO',\n",
              "       '5153 - TRABALHADORES DE ATENÇÃO',\n",
              "       '0102 - OFICIAIS DAS FORÇAS ARMADAS',\n",
              "       '9503 - SUPERVISORES DE MANUTENÇÃO ELETROMECÂNICA',\n",
              "       '3253 - TÉCNICOS DE APOIO À BIOTECNOLOGIA',\n",
              "       '4102 - SUPERVISORES DE SERVIÇOS FINANCEIROS',\n",
              "       '3122 - TÉCNICOS EM CONSTRUÇÃO CIVIL (OBRAS DE INFRAESTRUTURA)',\n",
              "       '7824 - MOTORISTAS DE ÔNIBUS URBANOS',\n",
              "       '2345 - PROFESSORES NA ÁREA DE FORMAÇÃO PEDAGÓGICA DO ENSINO SUPERIOR',\n",
              "       '1231 - DIRETORES ADMINISTRATIVOS E FINANCEIROS',\n",
              "       '2124 - ANALISTAS DE TECNOLOGIA DA INFORMAÇÃO',\n",
              "       '2525 - PROFISSIONAIS DE ADMINISTRAÇÃO ECÔNOMICO-FINANCEIRA',\n",
              "       '8401 - SUPERVISORES DA FABRICAÇÃO DE ALIMENTOS',\n",
              "       '5171 - BOMBEIROS', '2211 - BIÓLOGOS E AFINS',\n",
              "       '1422 - GERENTES DE RECURSOS HUMANOS E DE RELAÇÕES DO TRABALHO',\n",
              "       '1232 - DIRETORES DE RECURSOS HUMANOS E RELAÇÕES DE TRABALHO',\n",
              "       '2123 - ADMINISTRADORES DE TECNOLOGIA DA INFORMAÇÃO',\n",
              "       '2522 - CONTADORES E AFINS', '4101 - SUPERVISORES ADMINISTRATIVOS',\n",
              "       '0301 - OFICIAIS SUPERIORES DO CORPO DE BOMBEIROS MILITAR',\n",
              "       '3144 - TÉCNICOS MECÂNICOS NA MANUTENÇÃO DE MÁQUINAS',\n",
              "       '2511 - PROFISSIONAIS EM PESQUISA E ANÁLISE ANTROPOLÓGICA SOCIOLÓGICA',\n",
              "       '3133 - TÉCNICOS EM TELECOMUNICAÇÕES',\n",
              "       '3518 - AGENTES DE INVESTIGAÇÃO E IDENTIFICAÇÃO',\n",
              "       '2526 - PROFISSIONAIS DA ADMINISTRAÇÃO DOS SERVIÇOS DE SEGURANÇA',\n",
              "       '3142 - TÉCNICOS MECÂNICOS (FERRAMENTAS)',\n",
              "       '3172 - TÉCNICOS DE SUPORTE E MONITORAÇÃO AO USUÁRIO DE TECNOLOGIA DA INFORMAÇÃO.',\n",
              "       '3542 - COMPRADORES',\n",
              "       '0201 - OFICIAIS SUPERIORES DA POLÍCIA MILITAR',\n",
              "       '7632 - OPERADORES DE MÁQUINAS PARA COSTURA DE PEÇAS DO VESTUÁRIO',\n",
              "       '4141 - ALMOXARIFES E ARMAZENISTAS',\n",
              "       '1427 - GERENTES DE MANUTENÇÃO E AFINS',\n",
              "       '8103 - SUPERVISORES DE PRODUÇÃO EM INDÚSTRIAS DE PRODUTOS FARMACÊUTICOS',\n",
              "       '7630 - PROFISSIONAIS POLIVALENTES DA CONFECÇÃO DE ROUPAS',\n",
              "       '1238 - DIRETORES DE MANUTENÇÃO',\n",
              "       '2140 - ENGENHEIROS AMBIENTAIS E AFINS',\n",
              "       '1223 - DIRETORES DE OPERAÇÕES DE OBRAS EM EMPRESA DE CONSTRUÇÃO',\n",
              "       '6220 - TRABALHADORES DE APOIO À AGRICULTURA',\n",
              "       '5193 - TRABALHADORES DE SERVIÇOS VETERINÁRIOS',\n",
              "       '5111 - TRABALHADORES DE SEGURANÇA E ATENDIMENTO AOS USUÁRIOS NOS TRANSPORTES',\n",
              "       '2312 - PROFESSORES DE NÍVEL SUPERIOR DO ENSINO FUNDAMENTAL (PRIMEIRA A QUARTA SÉRIES)',\n",
              "       '4241 - ENTREVISTADORES E RECENSEADORES',\n",
              "       '2613 - ARQUIVISTAS E MUSEÓLOGOS',\n",
              "       '2543 - AUDITORES FISCAIS DO TRABALHO',\n",
              "       '7832 - TRABALHADORES DE CARGAS E DESCARGAS DE MERCADORIAS',\n",
              "       '8112 - OPERADORES DE CALCINAÇÃO E DE TRATAMENTOS QUÍMICOS DE MATERIAIS RADIOATIVOS',\n",
              "       '5102 - SUPERVISORES DE LAVANDERIA',\n",
              "       '2611 - PROFISSIONAIS DO JORNALISMO',\n",
              "       '2331 - PROFESSORES DO ENSINO PROFISSIONAL',\n",
              "       '2142 - ENGENHEIROS CIVIS E AFINS'], dtype=object)"
            ]
          },
          "metadata": {
            "tags": []
          },
          "execution_count": 72
        }
      ]
    },
    {
      "cell_type": "code",
      "metadata": {
        "id": "Y9tF4sKkkLXt"
      },
      "source": [
        "#Sintomas de quem teve morte confirmada e documentada\n",
        "covid_rn.loc[covid_rn.evolucaoCaso==\"Óbito\",\"sintomas\"].unique()\n",
        "#nenhum assintomatico teve morte documentada"
      ],
      "execution_count": null,
      "outputs": []
    },
    {
      "cell_type": "markdown",
      "metadata": {
        "id": "ysjxw5Ddk_oP"
      },
      "source": [
        "2.0. CLEANING DATASETS"
      ]
    },
    {
      "cell_type": "code",
      "metadata": {
        "id": "3JO6ufBfnMte",
        "outputId": "82326699-ca91-4d7e-ca89-80c1b259ed11",
        "colab": {
          "base_uri": "https://localhost:8080/",
          "height": 116
        }
      },
      "source": [
        "data_br.estado.unique()"
      ],
      "execution_count": 79,
      "outputs": [
        {
          "output_type": "execute_result",
          "data": {
            "text/plain": [
              "array(['RIO GRANDE DO NORTE', 'CEARÁ', 'DISTRITO FEDERAL', 'PARAÍBA',\n",
              "       'PIAUÍ', 'PERNAMBUCO', nan, 'BAHIA', 'RIO DE JANEIRO', 'SÃO PAULO',\n",
              "       'SANTA CATARINA', 'PARÁ', 'MINAS GERAIS', 'SERGIPE', 'RONDÔNIA',\n",
              "       'MARANHÃO', 'PARANÁ', 'MATO GROSSO', 'ALAGOAS', 'AMAZONAS',\n",
              "       'GOIÁS', 'ACRE', 'MATO GROSSO DO SUL', 'RIO GRANDE DO SUL',\n",
              "       'TOCANTINS', 'RORAIMA', 'ESPÍRITO SANTO', 'AMAPÁ'], dtype=object)"
            ]
          },
          "metadata": {
            "tags": []
          },
          "execution_count": 79
        }
      ]
    },
    {
      "cell_type": "code",
      "metadata": {
        "id": "7GXgT-j4ris_"
      },
      "source": [
        "data_rn = covid_rn.iloc[:,[0,2,5,11,13,14,26,27, 28]].copy() #choose columns\n",
        "data_rn.columns = ['id', 'inicioSintomas', 'profissional', 'resultado', 'sexo', 'estado', 'idade', 'encerramento', 'evolucao']"
      ],
      "execution_count": 81,
      "outputs": []
    },
    {
      "cell_type": "code",
      "metadata": {
        "id": "N_PIvrTG1c42",
        "outputId": "2dc25934-bd59-45fd-c78e-00308c86148c",
        "colab": {
          "base_uri": "https://localhost:8080/",
          "height": 116
        }
      },
      "source": [
        "data_rn.index = data_rn.id\n",
        "data_rn.drop(labels=\"id\",axis=1,inplace=True) \n",
        "data_rn.head()\n",
        "data_rn.estado.unique()"
      ],
      "execution_count": 82,
      "outputs": [
        {
          "output_type": "execute_result",
          "data": {
            "text/plain": [
              "array(['RIO GRANDE DO NORTE', 'CEARÁ', 'DISTRITO FEDERAL', 'PARAÍBA',\n",
              "       'PIAUÍ', 'PERNAMBUCO', nan, 'BAHIA', 'RIO DE JANEIRO', 'SÃO PAULO',\n",
              "       'SANTA CATARINA', 'PARÁ', 'MINAS GERAIS', 'SERGIPE', 'RONDÔNIA',\n",
              "       'MARANHÃO', 'PARANÁ', 'MATO GROSSO', 'ALAGOAS', 'AMAZONAS',\n",
              "       'GOIÁS', 'ACRE', 'MATO GROSSO DO SUL', 'RIO GRANDE DO SUL',\n",
              "       'TOCANTINS', 'RORAIMA', 'ESPÍRITO SANTO', 'AMAPÁ'], dtype=object)"
            ]
          },
          "metadata": {
            "tags": []
          },
          "execution_count": 82
        }
      ]
    },
    {
      "cell_type": "code",
      "metadata": {
        "id": "FRM8QgUplZhI"
      },
      "source": [
        ""
      ],
      "execution_count": null,
      "outputs": []
    },
    {
      "cell_type": "code",
      "metadata": {
        "id": "Cw5Qoy1enOUL",
        "outputId": "dff680b8-d583-4f4d-db66-15700182b894",
        "colab": {
          "base_uri": "https://localhost:8080/",
          "height": 817
        }
      },
      "source": [
        "import plotly.graph_objects as go\n",
        "from plotly.subplots import make_subplots\n",
        "\n",
        "import numpy as np\n",
        "\n",
        "# Initialize figure with 4 3D subplots\n",
        "fig = make_subplots(\n",
        "    rows=3, cols=3,\n",
        "    specs=[[{'type': 'surface'}, {'type': 'surface'}, {'type': 'surface'}],\n",
        "           [{'type': 'surface'}, {'type': 'surface'}, {'type': 'surface'}],\n",
        "           [{'type': 'surface'}, {'type': 'surface'}, {'type': 'surface'}]])\n",
        "\n",
        "# Generate data\n",
        "x = np.linspace(-5, 60, 10)\n",
        "y = np.linspace(-5, 60, 10)\n",
        "xGrid, yGrid = np.meshgrid(y, x)\n",
        "z = xGrid ** 3 + yGrid ** 3\n",
        "\n",
        "# adding surfaces to subplots.\n",
        "fig.add_trace(\n",
        "    go.Surface(x=x, y=y, z=z, colorscale='Viridis', showscale=False),\n",
        "    row=1, col=1)\n",
        "\n",
        "fig.add_trace(\n",
        "    go.Surface(x=x, y=y, z=z, colorscale='RdBu', showscale=False),\n",
        "    row=1, col=2)\n",
        "\n",
        "fig.add_trace(\n",
        "    go.Surface(x=x, y=y, z=z, colorscale='RdBu', showscale=False),\n",
        "    row=1, col=3)\n",
        "\n",
        "fig.add_trace(\n",
        "    go.Surface(x=x, y=y, z=z, colorscale='YlOrRd', showscale=False),\n",
        "    row=2, col=1)\n",
        "\n",
        "fig.add_trace(\n",
        "    go.Surface(x=x, y=y, z=z, colorscale='YlGnBu', showscale=False),\n",
        "    row=2, col=2)\n",
        "\n",
        "fig.add_trace(\n",
        "    go.Surface(x=x, y=y, z=z, colorscale='YlGnBu', showscale=False),\n",
        "    row=2, col=3)\n",
        "\n",
        "fig.add_trace(\n",
        "    go.Surface(x=x, y=y, z=z, colorscale='YlOrRd', showscale=False),\n",
        "    row=3, col=1)\n",
        "\n",
        "fig.add_trace(\n",
        "    go.Surface(x=x, y=y, z=z, colorscale='YlGnBu', showscale=False),\n",
        "    row=3, col=2)\n",
        "\n",
        "fig.add_trace(\n",
        "    go.Surface(x=x, y=y, z=z, colorscale='YlGnBu', showscale=False),\n",
        "    row=3, col=3)\n",
        "\n",
        "\n",
        "fig.update_layout(\n",
        "    title_text='3D subplots with different colorscales',\n",
        "    height=800,\n",
        "    width=800\n",
        ")\n",
        "\n",
        "fig.show()\n"
      ],
      "execution_count": 70,
      "outputs": [
        {
          "output_type": "display_data",
          "data": {
            "text/html": [
              "<html>\n",
              "<head><meta charset=\"utf-8\" /></head>\n",
              "<body>\n",
              "    <div>\n",
              "            <script src=\"https://cdnjs.cloudflare.com/ajax/libs/mathjax/2.7.5/MathJax.js?config=TeX-AMS-MML_SVG\"></script><script type=\"text/javascript\">if (window.MathJax) {MathJax.Hub.Config({SVG: {font: \"STIX-Web\"}});}</script>\n",
              "                <script type=\"text/javascript\">window.PlotlyConfig = {MathJaxConfig: 'local'};</script>\n",
              "        <script src=\"https://cdn.plot.ly/plotly-latest.min.js\"></script>    \n",
              "            <div id=\"da43ae81-ac1b-477a-9f55-8a0f04c985a3\" class=\"plotly-graph-div\" style=\"height:800px; width:800px;\"></div>\n",
              "            <script type=\"text/javascript\">\n",
              "                \n",
              "                    window.PLOTLYENV=window.PLOTLYENV || {};\n",
              "                    \n",
              "                if (document.getElementById(\"da43ae81-ac1b-477a-9f55-8a0f04c985a3\")) {\n",
              "                    Plotly.newPlot(\n",
              "                        'da43ae81-ac1b-477a-9f55-8a0f04c985a3',\n",
              "                        [{\"colorscale\": [[0.0, \"#440154\"], [0.1111111111111111, \"#482878\"], [0.2222222222222222, \"#3e4989\"], [0.3333333333333333, \"#31688e\"], [0.4444444444444444, \"#26828e\"], [0.5555555555555556, \"#1f9e89\"], [0.6666666666666666, \"#35b779\"], [0.7777777777777778, \"#6ece58\"], [0.8888888888888888, \"#b5de2b\"], [1.0, \"#fde725\"]], \"scene\": \"scene\", \"showscale\": false, \"type\": \"surface\", \"x\": [-5.0, 2.2222222222222223, 9.444444444444445, 16.666666666666668, 23.88888888888889, 31.111111111111114, 38.333333333333336, 45.55555555555556, 52.77777777777778, 60.0], \"y\": [-5.0, 2.2222222222222223, 9.444444444444445, 16.666666666666668, 23.88888888888889, 31.111111111111114, 38.333333333333336, 45.55555555555556, 52.77777777777778, 60.0], \"z\": [[-250.0, -114.02606310013718, 717.4211248285322, 4504.6296296296305, 13507.887517146777, 29987.482853223602, 56203.703703703715, 94416.83813443074, 146887.1742112483, 215875.0], [-114.02606310013718, 21.947873799725656, 853.395061728395, 4640.603566529493, 13643.86145404664, 30123.456790123466, 56339.67764060358, 94552.8120713306, 147023.14814814815, 216010.97393689986], [717.4211248285322, 853.395061728395, 1684.8422496570645, 5472.050754458162, 14475.308641975309, 30954.903978052134, 57171.12482853225, 95384.25925925927, 147854.59533607683, 216842.42112482854], [4504.6296296296305, 4640.603566529493, 5472.050754458162, 9259.259259259261, 18262.51714677641, 34742.112482853234, 60958.33333333334, 99171.46776406038, 151641.80384087792, 220629.62962962964], [13507.887517146777, 13643.86145404664, 14475.308641975309, 18262.51714677641, 27265.775034293554, 43745.37037037038, 69961.59122085049, 108174.72565157752, 160645.06172839506, 229632.88751714677], [29987.482853223602, 30123.456790123466, 30954.903978052134, 34742.112482853234, 43745.37037037038, 60224.965706447205, 86441.18655692732, 124654.32098765434, 177124.6570644719, 246112.4828532236], [56203.703703703715, 56339.67764060358, 57171.12482853225, 60958.33333333334, 69961.59122085049, 86441.18655692732, 112657.40740740743, 150870.54183813446, 203340.877914952, 272328.7037037037], [94416.83813443074, 94552.8120713306, 95384.25925925927, 99171.46776406038, 108174.72565157752, 124654.32098765434, 150870.54183813446, 189083.67626886148, 241554.01234567905, 310541.83813443076], [146887.1742112483, 147023.14814814815, 147854.59533607683, 151641.80384087792, 160645.06172839506, 177124.6570644719, 203340.877914952, 241554.01234567905, 294024.3484224966, 363012.1742112483], [215875.0, 216010.97393689986, 216842.42112482854, 220629.62962962964, 229632.88751714677, 246112.4828532236, 272328.7037037037, 310541.83813443076, 363012.1742112483, 432000.0]]}, {\"colorscale\": [[0.0, \"rgb(103,0,31)\"], [0.1, \"rgb(178,24,43)\"], [0.2, \"rgb(214,96,77)\"], [0.3, \"rgb(244,165,130)\"], [0.4, \"rgb(253,219,199)\"], [0.5, \"rgb(247,247,247)\"], [0.6, \"rgb(209,229,240)\"], [0.7, \"rgb(146,197,222)\"], [0.8, \"rgb(67,147,195)\"], [0.9, \"rgb(33,102,172)\"], [1.0, \"rgb(5,48,97)\"]], \"scene\": \"scene2\", \"showscale\": false, \"type\": \"surface\", \"x\": [-5.0, 2.2222222222222223, 9.444444444444445, 16.666666666666668, 23.88888888888889, 31.111111111111114, 38.333333333333336, 45.55555555555556, 52.77777777777778, 60.0], \"y\": [-5.0, 2.2222222222222223, 9.444444444444445, 16.666666666666668, 23.88888888888889, 31.111111111111114, 38.333333333333336, 45.55555555555556, 52.77777777777778, 60.0], \"z\": [[-250.0, -114.02606310013718, 717.4211248285322, 4504.6296296296305, 13507.887517146777, 29987.482853223602, 56203.703703703715, 94416.83813443074, 146887.1742112483, 215875.0], [-114.02606310013718, 21.947873799725656, 853.395061728395, 4640.603566529493, 13643.86145404664, 30123.456790123466, 56339.67764060358, 94552.8120713306, 147023.14814814815, 216010.97393689986], [717.4211248285322, 853.395061728395, 1684.8422496570645, 5472.050754458162, 14475.308641975309, 30954.903978052134, 57171.12482853225, 95384.25925925927, 147854.59533607683, 216842.42112482854], [4504.6296296296305, 4640.603566529493, 5472.050754458162, 9259.259259259261, 18262.51714677641, 34742.112482853234, 60958.33333333334, 99171.46776406038, 151641.80384087792, 220629.62962962964], [13507.887517146777, 13643.86145404664, 14475.308641975309, 18262.51714677641, 27265.775034293554, 43745.37037037038, 69961.59122085049, 108174.72565157752, 160645.06172839506, 229632.88751714677], [29987.482853223602, 30123.456790123466, 30954.903978052134, 34742.112482853234, 43745.37037037038, 60224.965706447205, 86441.18655692732, 124654.32098765434, 177124.6570644719, 246112.4828532236], [56203.703703703715, 56339.67764060358, 57171.12482853225, 60958.33333333334, 69961.59122085049, 86441.18655692732, 112657.40740740743, 150870.54183813446, 203340.877914952, 272328.7037037037], [94416.83813443074, 94552.8120713306, 95384.25925925927, 99171.46776406038, 108174.72565157752, 124654.32098765434, 150870.54183813446, 189083.67626886148, 241554.01234567905, 310541.83813443076], [146887.1742112483, 147023.14814814815, 147854.59533607683, 151641.80384087792, 160645.06172839506, 177124.6570644719, 203340.877914952, 241554.01234567905, 294024.3484224966, 363012.1742112483], [215875.0, 216010.97393689986, 216842.42112482854, 220629.62962962964, 229632.88751714677, 246112.4828532236, 272328.7037037037, 310541.83813443076, 363012.1742112483, 432000.0]]}, {\"colorscale\": [[0.0, \"rgb(103,0,31)\"], [0.1, \"rgb(178,24,43)\"], [0.2, \"rgb(214,96,77)\"], [0.3, \"rgb(244,165,130)\"], [0.4, \"rgb(253,219,199)\"], [0.5, \"rgb(247,247,247)\"], [0.6, \"rgb(209,229,240)\"], [0.7, \"rgb(146,197,222)\"], [0.8, \"rgb(67,147,195)\"], [0.9, \"rgb(33,102,172)\"], [1.0, \"rgb(5,48,97)\"]], \"scene\": \"scene3\", \"showscale\": false, \"type\": \"surface\", \"x\": [-5.0, 2.2222222222222223, 9.444444444444445, 16.666666666666668, 23.88888888888889, 31.111111111111114, 38.333333333333336, 45.55555555555556, 52.77777777777778, 60.0], \"y\": [-5.0, 2.2222222222222223, 9.444444444444445, 16.666666666666668, 23.88888888888889, 31.111111111111114, 38.333333333333336, 45.55555555555556, 52.77777777777778, 60.0], \"z\": [[-250.0, -114.02606310013718, 717.4211248285322, 4504.6296296296305, 13507.887517146777, 29987.482853223602, 56203.703703703715, 94416.83813443074, 146887.1742112483, 215875.0], [-114.02606310013718, 21.947873799725656, 853.395061728395, 4640.603566529493, 13643.86145404664, 30123.456790123466, 56339.67764060358, 94552.8120713306, 147023.14814814815, 216010.97393689986], [717.4211248285322, 853.395061728395, 1684.8422496570645, 5472.050754458162, 14475.308641975309, 30954.903978052134, 57171.12482853225, 95384.25925925927, 147854.59533607683, 216842.42112482854], [4504.6296296296305, 4640.603566529493, 5472.050754458162, 9259.259259259261, 18262.51714677641, 34742.112482853234, 60958.33333333334, 99171.46776406038, 151641.80384087792, 220629.62962962964], [13507.887517146777, 13643.86145404664, 14475.308641975309, 18262.51714677641, 27265.775034293554, 43745.37037037038, 69961.59122085049, 108174.72565157752, 160645.06172839506, 229632.88751714677], [29987.482853223602, 30123.456790123466, 30954.903978052134, 34742.112482853234, 43745.37037037038, 60224.965706447205, 86441.18655692732, 124654.32098765434, 177124.6570644719, 246112.4828532236], [56203.703703703715, 56339.67764060358, 57171.12482853225, 60958.33333333334, 69961.59122085049, 86441.18655692732, 112657.40740740743, 150870.54183813446, 203340.877914952, 272328.7037037037], [94416.83813443074, 94552.8120713306, 95384.25925925927, 99171.46776406038, 108174.72565157752, 124654.32098765434, 150870.54183813446, 189083.67626886148, 241554.01234567905, 310541.83813443076], [146887.1742112483, 147023.14814814815, 147854.59533607683, 151641.80384087792, 160645.06172839506, 177124.6570644719, 203340.877914952, 241554.01234567905, 294024.3484224966, 363012.1742112483], [215875.0, 216010.97393689986, 216842.42112482854, 220629.62962962964, 229632.88751714677, 246112.4828532236, 272328.7037037037, 310541.83813443076, 363012.1742112483, 432000.0]]}, {\"colorscale\": [[0.0, \"rgb(255,255,204)\"], [0.125, \"rgb(255,237,160)\"], [0.25, \"rgb(254,217,118)\"], [0.375, \"rgb(254,178,76)\"], [0.5, \"rgb(253,141,60)\"], [0.625, \"rgb(252,78,42)\"], [0.75, \"rgb(227,26,28)\"], [0.875, \"rgb(189,0,38)\"], [1.0, \"rgb(128,0,38)\"]], \"scene\": \"scene4\", \"showscale\": false, \"type\": \"surface\", \"x\": [-5.0, 2.2222222222222223, 9.444444444444445, 16.666666666666668, 23.88888888888889, 31.111111111111114, 38.333333333333336, 45.55555555555556, 52.77777777777778, 60.0], \"y\": [-5.0, 2.2222222222222223, 9.444444444444445, 16.666666666666668, 23.88888888888889, 31.111111111111114, 38.333333333333336, 45.55555555555556, 52.77777777777778, 60.0], \"z\": [[-250.0, -114.02606310013718, 717.4211248285322, 4504.6296296296305, 13507.887517146777, 29987.482853223602, 56203.703703703715, 94416.83813443074, 146887.1742112483, 215875.0], [-114.02606310013718, 21.947873799725656, 853.395061728395, 4640.603566529493, 13643.86145404664, 30123.456790123466, 56339.67764060358, 94552.8120713306, 147023.14814814815, 216010.97393689986], [717.4211248285322, 853.395061728395, 1684.8422496570645, 5472.050754458162, 14475.308641975309, 30954.903978052134, 57171.12482853225, 95384.25925925927, 147854.59533607683, 216842.42112482854], [4504.6296296296305, 4640.603566529493, 5472.050754458162, 9259.259259259261, 18262.51714677641, 34742.112482853234, 60958.33333333334, 99171.46776406038, 151641.80384087792, 220629.62962962964], [13507.887517146777, 13643.86145404664, 14475.308641975309, 18262.51714677641, 27265.775034293554, 43745.37037037038, 69961.59122085049, 108174.72565157752, 160645.06172839506, 229632.88751714677], [29987.482853223602, 30123.456790123466, 30954.903978052134, 34742.112482853234, 43745.37037037038, 60224.965706447205, 86441.18655692732, 124654.32098765434, 177124.6570644719, 246112.4828532236], [56203.703703703715, 56339.67764060358, 57171.12482853225, 60958.33333333334, 69961.59122085049, 86441.18655692732, 112657.40740740743, 150870.54183813446, 203340.877914952, 272328.7037037037], [94416.83813443074, 94552.8120713306, 95384.25925925927, 99171.46776406038, 108174.72565157752, 124654.32098765434, 150870.54183813446, 189083.67626886148, 241554.01234567905, 310541.83813443076], [146887.1742112483, 147023.14814814815, 147854.59533607683, 151641.80384087792, 160645.06172839506, 177124.6570644719, 203340.877914952, 241554.01234567905, 294024.3484224966, 363012.1742112483], [215875.0, 216010.97393689986, 216842.42112482854, 220629.62962962964, 229632.88751714677, 246112.4828532236, 272328.7037037037, 310541.83813443076, 363012.1742112483, 432000.0]]}, {\"colorscale\": [[0.0, \"rgb(255,255,217)\"], [0.125, \"rgb(237,248,177)\"], [0.25, \"rgb(199,233,180)\"], [0.375, \"rgb(127,205,187)\"], [0.5, \"rgb(65,182,196)\"], [0.625, \"rgb(29,145,192)\"], [0.75, \"rgb(34,94,168)\"], [0.875, \"rgb(37,52,148)\"], [1.0, \"rgb(8,29,88)\"]], \"scene\": \"scene5\", \"showscale\": false, \"type\": \"surface\", \"x\": [-5.0, 2.2222222222222223, 9.444444444444445, 16.666666666666668, 23.88888888888889, 31.111111111111114, 38.333333333333336, 45.55555555555556, 52.77777777777778, 60.0], \"y\": [-5.0, 2.2222222222222223, 9.444444444444445, 16.666666666666668, 23.88888888888889, 31.111111111111114, 38.333333333333336, 45.55555555555556, 52.77777777777778, 60.0], \"z\": [[-250.0, -114.02606310013718, 717.4211248285322, 4504.6296296296305, 13507.887517146777, 29987.482853223602, 56203.703703703715, 94416.83813443074, 146887.1742112483, 215875.0], [-114.02606310013718, 21.947873799725656, 853.395061728395, 4640.603566529493, 13643.86145404664, 30123.456790123466, 56339.67764060358, 94552.8120713306, 147023.14814814815, 216010.97393689986], [717.4211248285322, 853.395061728395, 1684.8422496570645, 5472.050754458162, 14475.308641975309, 30954.903978052134, 57171.12482853225, 95384.25925925927, 147854.59533607683, 216842.42112482854], [4504.6296296296305, 4640.603566529493, 5472.050754458162, 9259.259259259261, 18262.51714677641, 34742.112482853234, 60958.33333333334, 99171.46776406038, 151641.80384087792, 220629.62962962964], [13507.887517146777, 13643.86145404664, 14475.308641975309, 18262.51714677641, 27265.775034293554, 43745.37037037038, 69961.59122085049, 108174.72565157752, 160645.06172839506, 229632.88751714677], [29987.482853223602, 30123.456790123466, 30954.903978052134, 34742.112482853234, 43745.37037037038, 60224.965706447205, 86441.18655692732, 124654.32098765434, 177124.6570644719, 246112.4828532236], [56203.703703703715, 56339.67764060358, 57171.12482853225, 60958.33333333334, 69961.59122085049, 86441.18655692732, 112657.40740740743, 150870.54183813446, 203340.877914952, 272328.7037037037], [94416.83813443074, 94552.8120713306, 95384.25925925927, 99171.46776406038, 108174.72565157752, 124654.32098765434, 150870.54183813446, 189083.67626886148, 241554.01234567905, 310541.83813443076], [146887.1742112483, 147023.14814814815, 147854.59533607683, 151641.80384087792, 160645.06172839506, 177124.6570644719, 203340.877914952, 241554.01234567905, 294024.3484224966, 363012.1742112483], [215875.0, 216010.97393689986, 216842.42112482854, 220629.62962962964, 229632.88751714677, 246112.4828532236, 272328.7037037037, 310541.83813443076, 363012.1742112483, 432000.0]]}, {\"colorscale\": [[0.0, \"rgb(255,255,217)\"], [0.125, \"rgb(237,248,177)\"], [0.25, \"rgb(199,233,180)\"], [0.375, \"rgb(127,205,187)\"], [0.5, \"rgb(65,182,196)\"], [0.625, \"rgb(29,145,192)\"], [0.75, \"rgb(34,94,168)\"], [0.875, \"rgb(37,52,148)\"], [1.0, \"rgb(8,29,88)\"]], \"scene\": \"scene6\", \"showscale\": false, \"type\": \"surface\", \"x\": [-5.0, 2.2222222222222223, 9.444444444444445, 16.666666666666668, 23.88888888888889, 31.111111111111114, 38.333333333333336, 45.55555555555556, 52.77777777777778, 60.0], \"y\": [-5.0, 2.2222222222222223, 9.444444444444445, 16.666666666666668, 23.88888888888889, 31.111111111111114, 38.333333333333336, 45.55555555555556, 52.77777777777778, 60.0], \"z\": [[-250.0, -114.02606310013718, 717.4211248285322, 4504.6296296296305, 13507.887517146777, 29987.482853223602, 56203.703703703715, 94416.83813443074, 146887.1742112483, 215875.0], [-114.02606310013718, 21.947873799725656, 853.395061728395, 4640.603566529493, 13643.86145404664, 30123.456790123466, 56339.67764060358, 94552.8120713306, 147023.14814814815, 216010.97393689986], [717.4211248285322, 853.395061728395, 1684.8422496570645, 5472.050754458162, 14475.308641975309, 30954.903978052134, 57171.12482853225, 95384.25925925927, 147854.59533607683, 216842.42112482854], [4504.6296296296305, 4640.603566529493, 5472.050754458162, 9259.259259259261, 18262.51714677641, 34742.112482853234, 60958.33333333334, 99171.46776406038, 151641.80384087792, 220629.62962962964], [13507.887517146777, 13643.86145404664, 14475.308641975309, 18262.51714677641, 27265.775034293554, 43745.37037037038, 69961.59122085049, 108174.72565157752, 160645.06172839506, 229632.88751714677], [29987.482853223602, 30123.456790123466, 30954.903978052134, 34742.112482853234, 43745.37037037038, 60224.965706447205, 86441.18655692732, 124654.32098765434, 177124.6570644719, 246112.4828532236], [56203.703703703715, 56339.67764060358, 57171.12482853225, 60958.33333333334, 69961.59122085049, 86441.18655692732, 112657.40740740743, 150870.54183813446, 203340.877914952, 272328.7037037037], [94416.83813443074, 94552.8120713306, 95384.25925925927, 99171.46776406038, 108174.72565157752, 124654.32098765434, 150870.54183813446, 189083.67626886148, 241554.01234567905, 310541.83813443076], [146887.1742112483, 147023.14814814815, 147854.59533607683, 151641.80384087792, 160645.06172839506, 177124.6570644719, 203340.877914952, 241554.01234567905, 294024.3484224966, 363012.1742112483], [215875.0, 216010.97393689986, 216842.42112482854, 220629.62962962964, 229632.88751714677, 246112.4828532236, 272328.7037037037, 310541.83813443076, 363012.1742112483, 432000.0]]}, {\"colorscale\": [[0.0, \"rgb(255,255,204)\"], [0.125, \"rgb(255,237,160)\"], [0.25, \"rgb(254,217,118)\"], [0.375, \"rgb(254,178,76)\"], [0.5, \"rgb(253,141,60)\"], [0.625, \"rgb(252,78,42)\"], [0.75, \"rgb(227,26,28)\"], [0.875, \"rgb(189,0,38)\"], [1.0, \"rgb(128,0,38)\"]], \"scene\": \"scene7\", \"showscale\": false, \"type\": \"surface\", \"x\": [-5.0, 2.2222222222222223, 9.444444444444445, 16.666666666666668, 23.88888888888889, 31.111111111111114, 38.333333333333336, 45.55555555555556, 52.77777777777778, 60.0], \"y\": [-5.0, 2.2222222222222223, 9.444444444444445, 16.666666666666668, 23.88888888888889, 31.111111111111114, 38.333333333333336, 45.55555555555556, 52.77777777777778, 60.0], \"z\": [[-250.0, -114.02606310013718, 717.4211248285322, 4504.6296296296305, 13507.887517146777, 29987.482853223602, 56203.703703703715, 94416.83813443074, 146887.1742112483, 215875.0], [-114.02606310013718, 21.947873799725656, 853.395061728395, 4640.603566529493, 13643.86145404664, 30123.456790123466, 56339.67764060358, 94552.8120713306, 147023.14814814815, 216010.97393689986], [717.4211248285322, 853.395061728395, 1684.8422496570645, 5472.050754458162, 14475.308641975309, 30954.903978052134, 57171.12482853225, 95384.25925925927, 147854.59533607683, 216842.42112482854], [4504.6296296296305, 4640.603566529493, 5472.050754458162, 9259.259259259261, 18262.51714677641, 34742.112482853234, 60958.33333333334, 99171.46776406038, 151641.80384087792, 220629.62962962964], [13507.887517146777, 13643.86145404664, 14475.308641975309, 18262.51714677641, 27265.775034293554, 43745.37037037038, 69961.59122085049, 108174.72565157752, 160645.06172839506, 229632.88751714677], [29987.482853223602, 30123.456790123466, 30954.903978052134, 34742.112482853234, 43745.37037037038, 60224.965706447205, 86441.18655692732, 124654.32098765434, 177124.6570644719, 246112.4828532236], [56203.703703703715, 56339.67764060358, 57171.12482853225, 60958.33333333334, 69961.59122085049, 86441.18655692732, 112657.40740740743, 150870.54183813446, 203340.877914952, 272328.7037037037], [94416.83813443074, 94552.8120713306, 95384.25925925927, 99171.46776406038, 108174.72565157752, 124654.32098765434, 150870.54183813446, 189083.67626886148, 241554.01234567905, 310541.83813443076], [146887.1742112483, 147023.14814814815, 147854.59533607683, 151641.80384087792, 160645.06172839506, 177124.6570644719, 203340.877914952, 241554.01234567905, 294024.3484224966, 363012.1742112483], [215875.0, 216010.97393689986, 216842.42112482854, 220629.62962962964, 229632.88751714677, 246112.4828532236, 272328.7037037037, 310541.83813443076, 363012.1742112483, 432000.0]]}, {\"colorscale\": [[0.0, \"rgb(255,255,217)\"], [0.125, \"rgb(237,248,177)\"], [0.25, \"rgb(199,233,180)\"], [0.375, \"rgb(127,205,187)\"], [0.5, \"rgb(65,182,196)\"], [0.625, \"rgb(29,145,192)\"], [0.75, \"rgb(34,94,168)\"], [0.875, \"rgb(37,52,148)\"], [1.0, \"rgb(8,29,88)\"]], \"scene\": \"scene8\", \"showscale\": false, \"type\": \"surface\", \"x\": [-5.0, 2.2222222222222223, 9.444444444444445, 16.666666666666668, 23.88888888888889, 31.111111111111114, 38.333333333333336, 45.55555555555556, 52.77777777777778, 60.0], \"y\": [-5.0, 2.2222222222222223, 9.444444444444445, 16.666666666666668, 23.88888888888889, 31.111111111111114, 38.333333333333336, 45.55555555555556, 52.77777777777778, 60.0], \"z\": [[-250.0, -114.02606310013718, 717.4211248285322, 4504.6296296296305, 13507.887517146777, 29987.482853223602, 56203.703703703715, 94416.83813443074, 146887.1742112483, 215875.0], [-114.02606310013718, 21.947873799725656, 853.395061728395, 4640.603566529493, 13643.86145404664, 30123.456790123466, 56339.67764060358, 94552.8120713306, 147023.14814814815, 216010.97393689986], [717.4211248285322, 853.395061728395, 1684.8422496570645, 5472.050754458162, 14475.308641975309, 30954.903978052134, 57171.12482853225, 95384.25925925927, 147854.59533607683, 216842.42112482854], [4504.6296296296305, 4640.603566529493, 5472.050754458162, 9259.259259259261, 18262.51714677641, 34742.112482853234, 60958.33333333334, 99171.46776406038, 151641.80384087792, 220629.62962962964], [13507.887517146777, 13643.86145404664, 14475.308641975309, 18262.51714677641, 27265.775034293554, 43745.37037037038, 69961.59122085049, 108174.72565157752, 160645.06172839506, 229632.88751714677], [29987.482853223602, 30123.456790123466, 30954.903978052134, 34742.112482853234, 43745.37037037038, 60224.965706447205, 86441.18655692732, 124654.32098765434, 177124.6570644719, 246112.4828532236], [56203.703703703715, 56339.67764060358, 57171.12482853225, 60958.33333333334, 69961.59122085049, 86441.18655692732, 112657.40740740743, 150870.54183813446, 203340.877914952, 272328.7037037037], [94416.83813443074, 94552.8120713306, 95384.25925925927, 99171.46776406038, 108174.72565157752, 124654.32098765434, 150870.54183813446, 189083.67626886148, 241554.01234567905, 310541.83813443076], [146887.1742112483, 147023.14814814815, 147854.59533607683, 151641.80384087792, 160645.06172839506, 177124.6570644719, 203340.877914952, 241554.01234567905, 294024.3484224966, 363012.1742112483], [215875.0, 216010.97393689986, 216842.42112482854, 220629.62962962964, 229632.88751714677, 246112.4828532236, 272328.7037037037, 310541.83813443076, 363012.1742112483, 432000.0]]}, {\"colorscale\": [[0.0, \"rgb(255,255,217)\"], [0.125, \"rgb(237,248,177)\"], [0.25, \"rgb(199,233,180)\"], [0.375, \"rgb(127,205,187)\"], [0.5, \"rgb(65,182,196)\"], [0.625, \"rgb(29,145,192)\"], [0.75, \"rgb(34,94,168)\"], [0.875, \"rgb(37,52,148)\"], [1.0, \"rgb(8,29,88)\"]], \"scene\": \"scene9\", \"showscale\": false, \"type\": \"surface\", \"x\": [-5.0, 2.2222222222222223, 9.444444444444445, 16.666666666666668, 23.88888888888889, 31.111111111111114, 38.333333333333336, 45.55555555555556, 52.77777777777778, 60.0], \"y\": [-5.0, 2.2222222222222223, 9.444444444444445, 16.666666666666668, 23.88888888888889, 31.111111111111114, 38.333333333333336, 45.55555555555556, 52.77777777777778, 60.0], \"z\": [[-250.0, -114.02606310013718, 717.4211248285322, 4504.6296296296305, 13507.887517146777, 29987.482853223602, 56203.703703703715, 94416.83813443074, 146887.1742112483, 215875.0], [-114.02606310013718, 21.947873799725656, 853.395061728395, 4640.603566529493, 13643.86145404664, 30123.456790123466, 56339.67764060358, 94552.8120713306, 147023.14814814815, 216010.97393689986], [717.4211248285322, 853.395061728395, 1684.8422496570645, 5472.050754458162, 14475.308641975309, 30954.903978052134, 57171.12482853225, 95384.25925925927, 147854.59533607683, 216842.42112482854], [4504.6296296296305, 4640.603566529493, 5472.050754458162, 9259.259259259261, 18262.51714677641, 34742.112482853234, 60958.33333333334, 99171.46776406038, 151641.80384087792, 220629.62962962964], [13507.887517146777, 13643.86145404664, 14475.308641975309, 18262.51714677641, 27265.775034293554, 43745.37037037038, 69961.59122085049, 108174.72565157752, 160645.06172839506, 229632.88751714677], [29987.482853223602, 30123.456790123466, 30954.903978052134, 34742.112482853234, 43745.37037037038, 60224.965706447205, 86441.18655692732, 124654.32098765434, 177124.6570644719, 246112.4828532236], [56203.703703703715, 56339.67764060358, 57171.12482853225, 60958.33333333334, 69961.59122085049, 86441.18655692732, 112657.40740740743, 150870.54183813446, 203340.877914952, 272328.7037037037], [94416.83813443074, 94552.8120713306, 95384.25925925927, 99171.46776406038, 108174.72565157752, 124654.32098765434, 150870.54183813446, 189083.67626886148, 241554.01234567905, 310541.83813443076], [146887.1742112483, 147023.14814814815, 147854.59533607683, 151641.80384087792, 160645.06172839506, 177124.6570644719, 203340.877914952, 241554.01234567905, 294024.3484224966, 363012.1742112483], [215875.0, 216010.97393689986, 216842.42112482854, 220629.62962962964, 229632.88751714677, 246112.4828532236, 272328.7037037037, 310541.83813443076, 363012.1742112483, 432000.0]]}],\n",
              "                        {\"height\": 800, \"scene\": {\"domain\": {\"x\": [0.0, 0.2888888888888889], \"y\": [0.7333333333333333, 1.0]}}, \"scene2\": {\"domain\": {\"x\": [0.35555555555555557, 0.6444444444444445], \"y\": [0.7333333333333333, 1.0]}}, \"scene3\": {\"domain\": {\"x\": [0.7111111111111111, 1.0], \"y\": [0.7333333333333333, 1.0]}}, \"scene4\": {\"domain\": {\"x\": [0.0, 0.2888888888888889], \"y\": [0.36666666666666664, 0.6333333333333333]}}, \"scene5\": {\"domain\": {\"x\": [0.35555555555555557, 0.6444444444444445], \"y\": [0.36666666666666664, 0.6333333333333333]}}, \"scene6\": {\"domain\": {\"x\": [0.7111111111111111, 1.0], \"y\": [0.36666666666666664, 0.6333333333333333]}}, \"scene7\": {\"domain\": {\"x\": [0.0, 0.2888888888888889], \"y\": [0.0, 0.26666666666666666]}}, \"scene8\": {\"domain\": {\"x\": [0.35555555555555557, 0.6444444444444445], \"y\": [0.0, 0.26666666666666666]}}, \"scene9\": {\"domain\": {\"x\": [0.7111111111111111, 1.0], \"y\": [0.0, 0.26666666666666666]}}, \"template\": {\"data\": {\"bar\": [{\"error_x\": {\"color\": \"#2a3f5f\"}, \"error_y\": {\"color\": \"#2a3f5f\"}, \"marker\": {\"line\": {\"color\": \"#E5ECF6\", \"width\": 0.5}}, \"type\": \"bar\"}], \"barpolar\": [{\"marker\": {\"line\": {\"color\": \"#E5ECF6\", \"width\": 0.5}}, \"type\": \"barpolar\"}], \"carpet\": [{\"aaxis\": {\"endlinecolor\": \"#2a3f5f\", \"gridcolor\": \"white\", \"linecolor\": \"white\", \"minorgridcolor\": \"white\", \"startlinecolor\": \"#2a3f5f\"}, \"baxis\": {\"endlinecolor\": \"#2a3f5f\", \"gridcolor\": \"white\", \"linecolor\": \"white\", \"minorgridcolor\": \"white\", \"startlinecolor\": \"#2a3f5f\"}, \"type\": \"carpet\"}], \"choropleth\": [{\"colorbar\": {\"outlinewidth\": 0, \"ticks\": \"\"}, \"type\": \"choropleth\"}], \"contour\": [{\"colorbar\": {\"outlinewidth\": 0, \"ticks\": \"\"}, \"colorscale\": [[0.0, \"#0d0887\"], [0.1111111111111111, \"#46039f\"], [0.2222222222222222, \"#7201a8\"], [0.3333333333333333, \"#9c179e\"], [0.4444444444444444, \"#bd3786\"], [0.5555555555555556, \"#d8576b\"], [0.6666666666666666, \"#ed7953\"], [0.7777777777777778, \"#fb9f3a\"], [0.8888888888888888, \"#fdca26\"], [1.0, \"#f0f921\"]], \"type\": \"contour\"}], \"contourcarpet\": [{\"colorbar\": {\"outlinewidth\": 0, \"ticks\": \"\"}, \"type\": \"contourcarpet\"}], \"heatmap\": [{\"colorbar\": {\"outlinewidth\": 0, \"ticks\": \"\"}, \"colorscale\": [[0.0, \"#0d0887\"], [0.1111111111111111, \"#46039f\"], [0.2222222222222222, \"#7201a8\"], [0.3333333333333333, \"#9c179e\"], [0.4444444444444444, \"#bd3786\"], [0.5555555555555556, \"#d8576b\"], [0.6666666666666666, \"#ed7953\"], [0.7777777777777778, \"#fb9f3a\"], [0.8888888888888888, \"#fdca26\"], [1.0, \"#f0f921\"]], \"type\": \"heatmap\"}], \"heatmapgl\": [{\"colorbar\": {\"outlinewidth\": 0, \"ticks\": \"\"}, \"colorscale\": [[0.0, \"#0d0887\"], [0.1111111111111111, \"#46039f\"], [0.2222222222222222, \"#7201a8\"], [0.3333333333333333, \"#9c179e\"], [0.4444444444444444, \"#bd3786\"], [0.5555555555555556, \"#d8576b\"], [0.6666666666666666, \"#ed7953\"], [0.7777777777777778, \"#fb9f3a\"], [0.8888888888888888, \"#fdca26\"], [1.0, \"#f0f921\"]], \"type\": \"heatmapgl\"}], \"histogram\": [{\"marker\": {\"colorbar\": {\"outlinewidth\": 0, \"ticks\": \"\"}}, \"type\": \"histogram\"}], \"histogram2d\": [{\"colorbar\": {\"outlinewidth\": 0, \"ticks\": \"\"}, \"colorscale\": [[0.0, \"#0d0887\"], [0.1111111111111111, \"#46039f\"], [0.2222222222222222, \"#7201a8\"], [0.3333333333333333, \"#9c179e\"], [0.4444444444444444, \"#bd3786\"], [0.5555555555555556, \"#d8576b\"], [0.6666666666666666, \"#ed7953\"], [0.7777777777777778, \"#fb9f3a\"], [0.8888888888888888, \"#fdca26\"], [1.0, \"#f0f921\"]], \"type\": \"histogram2d\"}], \"histogram2dcontour\": [{\"colorbar\": {\"outlinewidth\": 0, \"ticks\": \"\"}, \"colorscale\": [[0.0, \"#0d0887\"], [0.1111111111111111, \"#46039f\"], [0.2222222222222222, \"#7201a8\"], [0.3333333333333333, \"#9c179e\"], [0.4444444444444444, \"#bd3786\"], [0.5555555555555556, \"#d8576b\"], [0.6666666666666666, \"#ed7953\"], [0.7777777777777778, \"#fb9f3a\"], [0.8888888888888888, \"#fdca26\"], [1.0, \"#f0f921\"]], \"type\": \"histogram2dcontour\"}], \"mesh3d\": [{\"colorbar\": {\"outlinewidth\": 0, \"ticks\": \"\"}, \"type\": \"mesh3d\"}], \"parcoords\": [{\"line\": {\"colorbar\": {\"outlinewidth\": 0, \"ticks\": \"\"}}, \"type\": \"parcoords\"}], \"pie\": [{\"automargin\": true, \"type\": \"pie\"}], \"scatter\": [{\"marker\": {\"colorbar\": {\"outlinewidth\": 0, \"ticks\": \"\"}}, \"type\": \"scatter\"}], \"scatter3d\": [{\"line\": {\"colorbar\": {\"outlinewidth\": 0, \"ticks\": \"\"}}, \"marker\": {\"colorbar\": {\"outlinewidth\": 0, \"ticks\": \"\"}}, \"type\": \"scatter3d\"}], \"scattercarpet\": [{\"marker\": {\"colorbar\": {\"outlinewidth\": 0, \"ticks\": \"\"}}, \"type\": \"scattercarpet\"}], \"scattergeo\": [{\"marker\": {\"colorbar\": {\"outlinewidth\": 0, \"ticks\": \"\"}}, \"type\": \"scattergeo\"}], \"scattergl\": [{\"marker\": {\"colorbar\": {\"outlinewidth\": 0, \"ticks\": \"\"}}, \"type\": \"scattergl\"}], \"scattermapbox\": [{\"marker\": {\"colorbar\": {\"outlinewidth\": 0, \"ticks\": \"\"}}, \"type\": \"scattermapbox\"}], \"scatterpolar\": [{\"marker\": {\"colorbar\": {\"outlinewidth\": 0, \"ticks\": \"\"}}, \"type\": \"scatterpolar\"}], \"scatterpolargl\": [{\"marker\": {\"colorbar\": {\"outlinewidth\": 0, \"ticks\": \"\"}}, \"type\": \"scatterpolargl\"}], \"scatterternary\": [{\"marker\": {\"colorbar\": {\"outlinewidth\": 0, \"ticks\": \"\"}}, \"type\": \"scatterternary\"}], \"surface\": [{\"colorbar\": {\"outlinewidth\": 0, \"ticks\": \"\"}, \"colorscale\": [[0.0, \"#0d0887\"], [0.1111111111111111, \"#46039f\"], [0.2222222222222222, \"#7201a8\"], [0.3333333333333333, \"#9c179e\"], [0.4444444444444444, \"#bd3786\"], [0.5555555555555556, \"#d8576b\"], [0.6666666666666666, \"#ed7953\"], [0.7777777777777778, \"#fb9f3a\"], [0.8888888888888888, \"#fdca26\"], [1.0, \"#f0f921\"]], \"type\": \"surface\"}], \"table\": [{\"cells\": {\"fill\": {\"color\": \"#EBF0F8\"}, \"line\": {\"color\": \"white\"}}, \"header\": {\"fill\": {\"color\": \"#C8D4E3\"}, \"line\": {\"color\": \"white\"}}, \"type\": \"table\"}]}, \"layout\": {\"annotationdefaults\": {\"arrowcolor\": \"#2a3f5f\", \"arrowhead\": 0, \"arrowwidth\": 1}, \"coloraxis\": {\"colorbar\": {\"outlinewidth\": 0, \"ticks\": \"\"}}, \"colorscale\": {\"diverging\": [[0, \"#8e0152\"], [0.1, \"#c51b7d\"], [0.2, \"#de77ae\"], [0.3, \"#f1b6da\"], [0.4, \"#fde0ef\"], [0.5, \"#f7f7f7\"], [0.6, \"#e6f5d0\"], [0.7, \"#b8e186\"], [0.8, \"#7fbc41\"], [0.9, \"#4d9221\"], [1, \"#276419\"]], \"sequential\": [[0.0, \"#0d0887\"], [0.1111111111111111, \"#46039f\"], [0.2222222222222222, \"#7201a8\"], [0.3333333333333333, \"#9c179e\"], [0.4444444444444444, \"#bd3786\"], [0.5555555555555556, \"#d8576b\"], [0.6666666666666666, \"#ed7953\"], [0.7777777777777778, \"#fb9f3a\"], [0.8888888888888888, \"#fdca26\"], [1.0, \"#f0f921\"]], \"sequentialminus\": [[0.0, \"#0d0887\"], [0.1111111111111111, \"#46039f\"], [0.2222222222222222, \"#7201a8\"], [0.3333333333333333, \"#9c179e\"], [0.4444444444444444, \"#bd3786\"], [0.5555555555555556, \"#d8576b\"], [0.6666666666666666, \"#ed7953\"], [0.7777777777777778, \"#fb9f3a\"], [0.8888888888888888, \"#fdca26\"], [1.0, \"#f0f921\"]]}, \"colorway\": [\"#636efa\", \"#EF553B\", \"#00cc96\", \"#ab63fa\", \"#FFA15A\", \"#19d3f3\", \"#FF6692\", \"#B6E880\", \"#FF97FF\", \"#FECB52\"], \"font\": {\"color\": \"#2a3f5f\"}, \"geo\": {\"bgcolor\": \"white\", \"lakecolor\": \"white\", \"landcolor\": \"#E5ECF6\", \"showlakes\": true, \"showland\": true, \"subunitcolor\": \"white\"}, \"hoverlabel\": {\"align\": \"left\"}, \"hovermode\": \"closest\", \"mapbox\": {\"style\": \"light\"}, \"paper_bgcolor\": \"white\", \"plot_bgcolor\": \"#E5ECF6\", \"polar\": {\"angularaxis\": {\"gridcolor\": \"white\", \"linecolor\": \"white\", \"ticks\": \"\"}, \"bgcolor\": \"#E5ECF6\", \"radialaxis\": {\"gridcolor\": \"white\", \"linecolor\": \"white\", \"ticks\": \"\"}}, \"scene\": {\"xaxis\": {\"backgroundcolor\": \"#E5ECF6\", \"gridcolor\": \"white\", \"gridwidth\": 2, \"linecolor\": \"white\", \"showbackground\": true, \"ticks\": \"\", \"zerolinecolor\": \"white\"}, \"yaxis\": {\"backgroundcolor\": \"#E5ECF6\", \"gridcolor\": \"white\", \"gridwidth\": 2, \"linecolor\": \"white\", \"showbackground\": true, \"ticks\": \"\", \"zerolinecolor\": \"white\"}, \"zaxis\": {\"backgroundcolor\": \"#E5ECF6\", \"gridcolor\": \"white\", \"gridwidth\": 2, \"linecolor\": \"white\", \"showbackground\": true, \"ticks\": \"\", \"zerolinecolor\": \"white\"}}, \"shapedefaults\": {\"line\": {\"color\": \"#2a3f5f\"}}, \"ternary\": {\"aaxis\": {\"gridcolor\": \"white\", \"linecolor\": \"white\", \"ticks\": \"\"}, \"baxis\": {\"gridcolor\": \"white\", \"linecolor\": \"white\", \"ticks\": \"\"}, \"bgcolor\": \"#E5ECF6\", \"caxis\": {\"gridcolor\": \"white\", \"linecolor\": \"white\", \"ticks\": \"\"}}, \"title\": {\"x\": 0.05}, \"xaxis\": {\"automargin\": true, \"gridcolor\": \"white\", \"linecolor\": \"white\", \"ticks\": \"\", \"title\": {\"standoff\": 15}, \"zerolinecolor\": \"white\", \"zerolinewidth\": 2}, \"yaxis\": {\"automargin\": true, \"gridcolor\": \"white\", \"linecolor\": \"white\", \"ticks\": \"\", \"title\": {\"standoff\": 15}, \"zerolinecolor\": \"white\", \"zerolinewidth\": 2}}}, \"title\": {\"text\": \"3D subplots with different colorscales\"}, \"width\": 800},\n",
              "                        {\"responsive\": true}\n",
              "                    ).then(function(){\n",
              "                            \n",
              "var gd = document.getElementById('da43ae81-ac1b-477a-9f55-8a0f04c985a3');\n",
              "var x = new MutationObserver(function (mutations, observer) {{\n",
              "        var display = window.getComputedStyle(gd).display;\n",
              "        if (!display || display === 'none') {{\n",
              "            console.log([gd, 'removed!']);\n",
              "            Plotly.purge(gd);\n",
              "            observer.disconnect();\n",
              "        }}\n",
              "}});\n",
              "\n",
              "// Listen for the removal of the full notebook cells\n",
              "var notebookContainer = gd.closest('#notebook-container');\n",
              "if (notebookContainer) {{\n",
              "    x.observe(notebookContainer, {childList: true});\n",
              "}}\n",
              "\n",
              "// Listen for the clearing of the current output cell\n",
              "var outputEl = gd.closest('.output');\n",
              "if (outputEl) {{\n",
              "    x.observe(outputEl, {childList: true});\n",
              "}}\n",
              "\n",
              "                        })\n",
              "                };\n",
              "                \n",
              "            </script>\n",
              "        </div>\n",
              "</body>\n",
              "</html>"
            ]
          },
          "metadata": {
            "tags": []
          }
        }
      ]
    },
    {
      "cell_type": "code",
      "metadata": {
        "id": "H-v8IpvMZ5OB"
      },
      "source": [
        "rn_prof = covid_rn.loc[covid_rn.profissionalSaude == \"Sim\"].copy()"
      ],
      "execution_count": null,
      "outputs": []
    },
    {
      "cell_type": "code",
      "metadata": {
        "id": "oRvmrD3CcJoh"
      },
      "source": [
        "covid_rn.condicoes.unique()"
      ],
      "execution_count": null,
      "outputs": []
    },
    {
      "cell_type": "code",
      "metadata": {
        "id": "cRKAG8VVbnVV"
      },
      "source": [
        "rn_prof.loc[rn_prof.evolucaoCaso == \"Óbito\"]"
      ],
      "execution_count": null,
      "outputs": []
    },
    {
      "cell_type": "code",
      "metadata": {
        "id": "FS0xxA2eYGTt"
      },
      "source": [
        "rn_prof"
      ],
      "execution_count": null,
      "outputs": []
    }
  ]
}